{
 "cells": [
  {
   "cell_type": "code",
   "execution_count": 1,
   "id": "b904ae25",
   "metadata": {},
   "outputs": [
    {
     "name": "stderr",
     "output_type": "stream",
     "text": [
      "C:\\Users\\gauta\\anaconda3\\lib\\site-packages\\lightfm\\_lightfm_fast.py:9: UserWarning: LightFM was compiled without OpenMP support. Only a single thread will be used.\n",
      "  warnings.warn(\n"
     ]
    }
   ],
   "source": [
    "import numpy as np\n",
    "import pandas as pd\n",
    "\n",
    "# all lightfm imports \n",
    "from lightfm.data import Dataset\n",
    "from lightfm import LightFM\n",
    "from lightfm import cross_validation\n",
    "from lightfm.evaluation import precision_at_k\n",
    "from lightfm.evaluation import auc_score\n",
    "\n",
    "# imports re for text cleaning \n",
    "import re\n",
    "from datetime import datetime, timedelta\n",
    "\n",
    "# we will ignore pandas warning \n",
    "import warnings\n",
    "warnings.filterwarnings('ignore')"
   ]
  },
  {
   "cell_type": "code",
   "execution_count": 2,
   "id": "9e403df7",
   "metadata": {},
   "outputs": [],
   "source": [
    "moviedf = pd.read_csv('movies_metadata.csv')\n",
    "# ratingdf = pd.read_csv('ratings.csv')\n",
    "ratingdf = pd.read_csv('ratings_small.csv')\n",
    "keyworddf = pd.read_csv('keywords.csv')\n",
    "creditdf = pd.read_csv('credits.csv')\n",
    "linkdf = pd.read_csv('links_small.csv')"
   ]
  },
  {
   "cell_type": "code",
   "execution_count": 3,
   "id": "7d422595",
   "metadata": {},
   "outputs": [],
   "source": [
    "moviedf = moviedf.drop([19730, 29503, 35587])"
   ]
  },
  {
   "cell_type": "code",
   "execution_count": 4,
   "id": "cdd8eb14",
   "metadata": {},
   "outputs": [
    {
     "data": {
      "text/plain": [
       "0           862\n",
       "1          8844\n",
       "2         15602\n",
       "3         31357\n",
       "4         11862\n",
       "          ...  \n",
       "45461    439050\n",
       "45462    111109\n",
       "45463     67758\n",
       "45464    227506\n",
       "45465    461257\n",
       "Name: id, Length: 45463, dtype: int32"
      ]
     },
     "execution_count": 4,
     "metadata": {},
     "output_type": "execute_result"
    }
   ],
   "source": [
    "moviedf['id'] = moviedf['id'].astype('int')\n",
    "moviedf['id']"
   ]
  },
  {
   "cell_type": "code",
   "execution_count": 5,
   "id": "e7ff4833",
   "metadata": {},
   "outputs": [
    {
     "data": {
      "text/plain": [
       "0          862\n",
       "1         8844\n",
       "2        15602\n",
       "3        31357\n",
       "4        11862\n",
       "         ...  \n",
       "9120    402672\n",
       "9121    315011\n",
       "9122    391698\n",
       "9123    137608\n",
       "9124    410803\n",
       "Name: tmdbId, Length: 9112, dtype: int32"
      ]
     },
     "execution_count": 5,
     "metadata": {},
     "output_type": "execute_result"
    }
   ],
   "source": [
    "linkdf = linkdf[linkdf['tmdbId'].notnull()]['tmdbId'].astype('int')\n",
    "linkdf"
   ]
  },
  {
   "cell_type": "code",
   "execution_count": 6,
   "id": "1297b3a1",
   "metadata": {},
   "outputs": [],
   "source": [
    "moviedf = moviedf[moviedf['id'].isin(linkdf)]"
   ]
  },
  {
   "cell_type": "code",
   "execution_count": 7,
   "id": "710d50f5",
   "metadata": {
    "scrolled": true
   },
   "outputs": [
    {
     "name": "stdout",
     "output_type": "stream",
     "text": [
      "(9099, 24)\n",
      "['adult', 'belongs_to_collection', 'budget', 'genres', 'homepage', 'id', 'imdb_id', 'original_language', 'original_title', 'overview', 'popularity', 'poster_path', 'production_companies', 'production_countries', 'release_date', 'revenue', 'runtime', 'spoken_languages', 'status', 'tagline', 'title', 'video', 'vote_average', 'vote_count']\n"
     ]
    },
    {
     "data": {
      "text/html": [
       "<div>\n",
       "<style scoped>\n",
       "    .dataframe tbody tr th:only-of-type {\n",
       "        vertical-align: middle;\n",
       "    }\n",
       "\n",
       "    .dataframe tbody tr th {\n",
       "        vertical-align: top;\n",
       "    }\n",
       "\n",
       "    .dataframe thead th {\n",
       "        text-align: right;\n",
       "    }\n",
       "</style>\n",
       "<table border=\"1\" class=\"dataframe\">\n",
       "  <thead>\n",
       "    <tr style=\"text-align: right;\">\n",
       "      <th></th>\n",
       "      <th>adult</th>\n",
       "      <th>belongs_to_collection</th>\n",
       "      <th>budget</th>\n",
       "      <th>genres</th>\n",
       "      <th>homepage</th>\n",
       "      <th>id</th>\n",
       "      <th>imdb_id</th>\n",
       "      <th>original_language</th>\n",
       "      <th>original_title</th>\n",
       "      <th>overview</th>\n",
       "      <th>...</th>\n",
       "      <th>release_date</th>\n",
       "      <th>revenue</th>\n",
       "      <th>runtime</th>\n",
       "      <th>spoken_languages</th>\n",
       "      <th>status</th>\n",
       "      <th>tagline</th>\n",
       "      <th>title</th>\n",
       "      <th>video</th>\n",
       "      <th>vote_average</th>\n",
       "      <th>vote_count</th>\n",
       "    </tr>\n",
       "  </thead>\n",
       "  <tbody>\n",
       "    <tr>\n",
       "      <th>0</th>\n",
       "      <td>False</td>\n",
       "      <td>{'id': 10194, 'name': 'Toy Story Collection', ...</td>\n",
       "      <td>30000000</td>\n",
       "      <td>[{'id': 16, 'name': 'Animation'}, {'id': 35, '...</td>\n",
       "      <td>http://toystory.disney.com/toy-story</td>\n",
       "      <td>862</td>\n",
       "      <td>tt0114709</td>\n",
       "      <td>en</td>\n",
       "      <td>Toy Story</td>\n",
       "      <td>Led by Woody, Andy's toys live happily in his ...</td>\n",
       "      <td>...</td>\n",
       "      <td>1995-10-30</td>\n",
       "      <td>373554033.0</td>\n",
       "      <td>81.0</td>\n",
       "      <td>[{'iso_639_1': 'en', 'name': 'English'}]</td>\n",
       "      <td>Released</td>\n",
       "      <td>NaN</td>\n",
       "      <td>Toy Story</td>\n",
       "      <td>False</td>\n",
       "      <td>7.7</td>\n",
       "      <td>5415.0</td>\n",
       "    </tr>\n",
       "    <tr>\n",
       "      <th>1</th>\n",
       "      <td>False</td>\n",
       "      <td>NaN</td>\n",
       "      <td>65000000</td>\n",
       "      <td>[{'id': 12, 'name': 'Adventure'}, {'id': 14, '...</td>\n",
       "      <td>NaN</td>\n",
       "      <td>8844</td>\n",
       "      <td>tt0113497</td>\n",
       "      <td>en</td>\n",
       "      <td>Jumanji</td>\n",
       "      <td>When siblings Judy and Peter discover an encha...</td>\n",
       "      <td>...</td>\n",
       "      <td>1995-12-15</td>\n",
       "      <td>262797249.0</td>\n",
       "      <td>104.0</td>\n",
       "      <td>[{'iso_639_1': 'en', 'name': 'English'}, {'iso...</td>\n",
       "      <td>Released</td>\n",
       "      <td>Roll the dice and unleash the excitement!</td>\n",
       "      <td>Jumanji</td>\n",
       "      <td>False</td>\n",
       "      <td>6.9</td>\n",
       "      <td>2413.0</td>\n",
       "    </tr>\n",
       "    <tr>\n",
       "      <th>2</th>\n",
       "      <td>False</td>\n",
       "      <td>{'id': 119050, 'name': 'Grumpy Old Men Collect...</td>\n",
       "      <td>0</td>\n",
       "      <td>[{'id': 10749, 'name': 'Romance'}, {'id': 35, ...</td>\n",
       "      <td>NaN</td>\n",
       "      <td>15602</td>\n",
       "      <td>tt0113228</td>\n",
       "      <td>en</td>\n",
       "      <td>Grumpier Old Men</td>\n",
       "      <td>A family wedding reignites the ancient feud be...</td>\n",
       "      <td>...</td>\n",
       "      <td>1995-12-22</td>\n",
       "      <td>0.0</td>\n",
       "      <td>101.0</td>\n",
       "      <td>[{'iso_639_1': 'en', 'name': 'English'}]</td>\n",
       "      <td>Released</td>\n",
       "      <td>Still Yelling. Still Fighting. Still Ready for...</td>\n",
       "      <td>Grumpier Old Men</td>\n",
       "      <td>False</td>\n",
       "      <td>6.5</td>\n",
       "      <td>92.0</td>\n",
       "    </tr>\n",
       "  </tbody>\n",
       "</table>\n",
       "<p>3 rows × 24 columns</p>\n",
       "</div>"
      ],
      "text/plain": [
       "   adult                              belongs_to_collection    budget  \\\n",
       "0  False  {'id': 10194, 'name': 'Toy Story Collection', ...  30000000   \n",
       "1  False                                                NaN  65000000   \n",
       "2  False  {'id': 119050, 'name': 'Grumpy Old Men Collect...         0   \n",
       "\n",
       "                                              genres  \\\n",
       "0  [{'id': 16, 'name': 'Animation'}, {'id': 35, '...   \n",
       "1  [{'id': 12, 'name': 'Adventure'}, {'id': 14, '...   \n",
       "2  [{'id': 10749, 'name': 'Romance'}, {'id': 35, ...   \n",
       "\n",
       "                               homepage     id    imdb_id original_language  \\\n",
       "0  http://toystory.disney.com/toy-story    862  tt0114709                en   \n",
       "1                                   NaN   8844  tt0113497                en   \n",
       "2                                   NaN  15602  tt0113228                en   \n",
       "\n",
       "     original_title                                           overview  ...  \\\n",
       "0         Toy Story  Led by Woody, Andy's toys live happily in his ...  ...   \n",
       "1           Jumanji  When siblings Judy and Peter discover an encha...  ...   \n",
       "2  Grumpier Old Men  A family wedding reignites the ancient feud be...  ...   \n",
       "\n",
       "  release_date      revenue runtime  \\\n",
       "0   1995-10-30  373554033.0    81.0   \n",
       "1   1995-12-15  262797249.0   104.0   \n",
       "2   1995-12-22          0.0   101.0   \n",
       "\n",
       "                                    spoken_languages    status  \\\n",
       "0           [{'iso_639_1': 'en', 'name': 'English'}]  Released   \n",
       "1  [{'iso_639_1': 'en', 'name': 'English'}, {'iso...  Released   \n",
       "2           [{'iso_639_1': 'en', 'name': 'English'}]  Released   \n",
       "\n",
       "                                             tagline             title  video  \\\n",
       "0                                                NaN         Toy Story  False   \n",
       "1          Roll the dice and unleash the excitement!           Jumanji  False   \n",
       "2  Still Yelling. Still Fighting. Still Ready for...  Grumpier Old Men  False   \n",
       "\n",
       "  vote_average vote_count  \n",
       "0          7.7     5415.0  \n",
       "1          6.9     2413.0  \n",
       "2          6.5       92.0  \n",
       "\n",
       "[3 rows x 24 columns]"
      ]
     },
     "execution_count": 7,
     "metadata": {},
     "output_type": "execute_result"
    }
   ],
   "source": [
    "print(moviedf.shape)\n",
    "print(moviedf.columns.tolist())\n",
    "moviedf.head(3)"
   ]
  },
  {
   "cell_type": "code",
   "execution_count": 8,
   "id": "38aa6d3c",
   "metadata": {},
   "outputs": [],
   "source": [
    "ratingdf = ratingdf[ratingdf['rating'] >= 4]"
   ]
  },
  {
   "cell_type": "code",
   "execution_count": 9,
   "id": "3473f310",
   "metadata": {
    "scrolled": true
   },
   "outputs": [
    {
     "name": "stdout",
     "output_type": "stream",
     "text": [
      "(51568, 4)\n"
     ]
    },
    {
     "data": {
      "text/html": [
       "<div>\n",
       "<style scoped>\n",
       "    .dataframe tbody tr th:only-of-type {\n",
       "        vertical-align: middle;\n",
       "    }\n",
       "\n",
       "    .dataframe tbody tr th {\n",
       "        vertical-align: top;\n",
       "    }\n",
       "\n",
       "    .dataframe thead th {\n",
       "        text-align: right;\n",
       "    }\n",
       "</style>\n",
       "<table border=\"1\" class=\"dataframe\">\n",
       "  <thead>\n",
       "    <tr style=\"text-align: right;\">\n",
       "      <th></th>\n",
       "      <th>userId</th>\n",
       "      <th>movieId</th>\n",
       "      <th>rating</th>\n",
       "      <th>timestamp</th>\n",
       "    </tr>\n",
       "  </thead>\n",
       "  <tbody>\n",
       "    <tr>\n",
       "      <th>4</th>\n",
       "      <td>1</td>\n",
       "      <td>1172</td>\n",
       "      <td>4.0</td>\n",
       "      <td>1260759205</td>\n",
       "    </tr>\n",
       "    <tr>\n",
       "      <th>12</th>\n",
       "      <td>1</td>\n",
       "      <td>1953</td>\n",
       "      <td>4.0</td>\n",
       "      <td>1260759191</td>\n",
       "    </tr>\n",
       "    <tr>\n",
       "      <th>13</th>\n",
       "      <td>1</td>\n",
       "      <td>2105</td>\n",
       "      <td>4.0</td>\n",
       "      <td>1260759139</td>\n",
       "    </tr>\n",
       "    <tr>\n",
       "      <th>20</th>\n",
       "      <td>2</td>\n",
       "      <td>10</td>\n",
       "      <td>4.0</td>\n",
       "      <td>835355493</td>\n",
       "    </tr>\n",
       "    <tr>\n",
       "      <th>21</th>\n",
       "      <td>2</td>\n",
       "      <td>17</td>\n",
       "      <td>5.0</td>\n",
       "      <td>835355681</td>\n",
       "    </tr>\n",
       "    <tr>\n",
       "      <th>22</th>\n",
       "      <td>2</td>\n",
       "      <td>39</td>\n",
       "      <td>5.0</td>\n",
       "      <td>835355604</td>\n",
       "    </tr>\n",
       "    <tr>\n",
       "      <th>23</th>\n",
       "      <td>2</td>\n",
       "      <td>47</td>\n",
       "      <td>4.0</td>\n",
       "      <td>835355552</td>\n",
       "    </tr>\n",
       "    <tr>\n",
       "      <th>24</th>\n",
       "      <td>2</td>\n",
       "      <td>50</td>\n",
       "      <td>4.0</td>\n",
       "      <td>835355586</td>\n",
       "    </tr>\n",
       "    <tr>\n",
       "      <th>27</th>\n",
       "      <td>2</td>\n",
       "      <td>110</td>\n",
       "      <td>4.0</td>\n",
       "      <td>835355532</td>\n",
       "    </tr>\n",
       "    <tr>\n",
       "      <th>29</th>\n",
       "      <td>2</td>\n",
       "      <td>150</td>\n",
       "      <td>5.0</td>\n",
       "      <td>835355395</td>\n",
       "    </tr>\n",
       "  </tbody>\n",
       "</table>\n",
       "</div>"
      ],
      "text/plain": [
       "    userId  movieId  rating   timestamp\n",
       "4        1     1172     4.0  1260759205\n",
       "12       1     1953     4.0  1260759191\n",
       "13       1     2105     4.0  1260759139\n",
       "20       2       10     4.0   835355493\n",
       "21       2       17     5.0   835355681\n",
       "22       2       39     5.0   835355604\n",
       "23       2       47     4.0   835355552\n",
       "24       2       50     4.0   835355586\n",
       "27       2      110     4.0   835355532\n",
       "29       2      150     5.0   835355395"
      ]
     },
     "execution_count": 9,
     "metadata": {},
     "output_type": "execute_result"
    }
   ],
   "source": [
    "print(ratingdf.shape)\n",
    "ratingdf.head(10)"
   ]
  },
  {
   "cell_type": "code",
   "execution_count": 10,
   "id": "001e74ad",
   "metadata": {},
   "outputs": [],
   "source": [
    "keyworddf['id'] = keyworddf['id'].astype('int')\n",
    "creditdf['id'] = creditdf['id'].astype('int')\n",
    "moviedf['id'] = moviedf['id'].astype('int')"
   ]
  },
  {
   "cell_type": "code",
   "execution_count": 11,
   "id": "7895a00c",
   "metadata": {},
   "outputs": [],
   "source": [
    "moviedf = moviedf.merge(creditdf, on='id')\n",
    "moviedf = moviedf.merge(keyworddf, on='id')"
   ]
  },
  {
   "cell_type": "code",
   "execution_count": 12,
   "id": "626009d3",
   "metadata": {},
   "outputs": [
    {
     "data": {
      "text/plain": [
       "adult                                                                False\n",
       "belongs_to_collection                                                  NaN\n",
       "budget                                                            65000000\n",
       "genres                   [{'id': 12, 'name': 'Adventure'}, {'id': 14, '...\n",
       "homepage                                                               NaN\n",
       "id                                                                    8844\n",
       "imdb_id                                                          tt0113497\n",
       "original_language                                                       en\n",
       "original_title                                                     Jumanji\n",
       "overview                 When siblings Judy and Peter discover an encha...\n",
       "popularity                                                       17.015539\n",
       "poster_path                               /vzmL6fP7aPKNKPRTFnZmiUfciyV.jpg\n",
       "production_companies     [{'name': 'TriStar Pictures', 'id': 559}, {'na...\n",
       "production_countries     [{'iso_3166_1': 'US', 'name': 'United States o...\n",
       "release_date                                                    1995-12-15\n",
       "revenue                                                        262797249.0\n",
       "runtime                                                              104.0\n",
       "spoken_languages         [{'iso_639_1': 'en', 'name': 'English'}, {'iso...\n",
       "status                                                            Released\n",
       "tagline                          Roll the dice and unleash the excitement!\n",
       "title                                                              Jumanji\n",
       "video                                                                False\n",
       "vote_average                                                           6.9\n",
       "vote_count                                                          2413.0\n",
       "cast                     [{'cast_id': 1, 'character': 'Alan Parrish', '...\n",
       "crew                     [{'credit_id': '52fe44bfc3a36847f80a7cd1', 'de...\n",
       "keywords                 [{'id': 10090, 'name': 'board game'}, {'id': 1...\n",
       "Name: 1, dtype: object"
      ]
     },
     "execution_count": 12,
     "metadata": {},
     "output_type": "execute_result"
    }
   ],
   "source": [
    "moviedf.iloc[1]"
   ]
  },
  {
   "cell_type": "code",
   "execution_count": 13,
   "id": "04983d38",
   "metadata": {},
   "outputs": [],
   "source": [
    "#genres, id, imdb_id, original_title, overview, vote_average, vote_count, cast, crew, keywords"
   ]
  },
  {
   "cell_type": "code",
   "execution_count": 14,
   "id": "b0062aaa",
   "metadata": {
    "scrolled": false
   },
   "outputs": [
    {
     "name": "stdout",
     "output_type": "stream",
     "text": [
      "(9219, 10)\n"
     ]
    },
    {
     "data": {
      "text/html": [
       "<div>\n",
       "<style scoped>\n",
       "    .dataframe tbody tr th:only-of-type {\n",
       "        vertical-align: middle;\n",
       "    }\n",
       "\n",
       "    .dataframe tbody tr th {\n",
       "        vertical-align: top;\n",
       "    }\n",
       "\n",
       "    .dataframe thead th {\n",
       "        text-align: right;\n",
       "    }\n",
       "</style>\n",
       "<table border=\"1\" class=\"dataframe\">\n",
       "  <thead>\n",
       "    <tr style=\"text-align: right;\">\n",
       "      <th></th>\n",
       "      <th>genres</th>\n",
       "      <th>id</th>\n",
       "      <th>imdb_id</th>\n",
       "      <th>original_title</th>\n",
       "      <th>overview</th>\n",
       "      <th>vote_average</th>\n",
       "      <th>vote_count</th>\n",
       "      <th>cast</th>\n",
       "      <th>crew</th>\n",
       "      <th>keywords</th>\n",
       "    </tr>\n",
       "  </thead>\n",
       "  <tbody>\n",
       "    <tr>\n",
       "      <th>0</th>\n",
       "      <td>[{'id': 16, 'name': 'Animation'}, {'id': 35, '...</td>\n",
       "      <td>862</td>\n",
       "      <td>tt0114709</td>\n",
       "      <td>Toy Story</td>\n",
       "      <td>Led by Woody, Andy's toys live happily in his ...</td>\n",
       "      <td>7.7</td>\n",
       "      <td>5415.0</td>\n",
       "      <td>[{'cast_id': 14, 'character': 'Woody (voice)',...</td>\n",
       "      <td>[{'credit_id': '52fe4284c3a36847f8024f49', 'de...</td>\n",
       "      <td>[{'id': 931, 'name': 'jealousy'}, {'id': 4290,...</td>\n",
       "    </tr>\n",
       "    <tr>\n",
       "      <th>1</th>\n",
       "      <td>[{'id': 12, 'name': 'Adventure'}, {'id': 14, '...</td>\n",
       "      <td>8844</td>\n",
       "      <td>tt0113497</td>\n",
       "      <td>Jumanji</td>\n",
       "      <td>When siblings Judy and Peter discover an encha...</td>\n",
       "      <td>6.9</td>\n",
       "      <td>2413.0</td>\n",
       "      <td>[{'cast_id': 1, 'character': 'Alan Parrish', '...</td>\n",
       "      <td>[{'credit_id': '52fe44bfc3a36847f80a7cd1', 'de...</td>\n",
       "      <td>[{'id': 10090, 'name': 'board game'}, {'id': 1...</td>\n",
       "    </tr>\n",
       "    <tr>\n",
       "      <th>2</th>\n",
       "      <td>[{'id': 10749, 'name': 'Romance'}, {'id': 35, ...</td>\n",
       "      <td>15602</td>\n",
       "      <td>tt0113228</td>\n",
       "      <td>Grumpier Old Men</td>\n",
       "      <td>A family wedding reignites the ancient feud be...</td>\n",
       "      <td>6.5</td>\n",
       "      <td>92.0</td>\n",
       "      <td>[{'cast_id': 2, 'character': 'Max Goldman', 'c...</td>\n",
       "      <td>[{'credit_id': '52fe466a9251416c75077a89', 'de...</td>\n",
       "      <td>[{'id': 1495, 'name': 'fishing'}, {'id': 12392...</td>\n",
       "    </tr>\n",
       "    <tr>\n",
       "      <th>3</th>\n",
       "      <td>[{'id': 35, 'name': 'Comedy'}, {'id': 18, 'nam...</td>\n",
       "      <td>31357</td>\n",
       "      <td>tt0114885</td>\n",
       "      <td>Waiting to Exhale</td>\n",
       "      <td>Cheated on, mistreated and stepped on, the wom...</td>\n",
       "      <td>6.1</td>\n",
       "      <td>34.0</td>\n",
       "      <td>[{'cast_id': 1, 'character': \"Savannah 'Vannah...</td>\n",
       "      <td>[{'credit_id': '52fe44779251416c91011acb', 'de...</td>\n",
       "      <td>[{'id': 818, 'name': 'based on novel'}, {'id':...</td>\n",
       "    </tr>\n",
       "    <tr>\n",
       "      <th>4</th>\n",
       "      <td>[{'id': 35, 'name': 'Comedy'}]</td>\n",
       "      <td>11862</td>\n",
       "      <td>tt0113041</td>\n",
       "      <td>Father of the Bride Part II</td>\n",
       "      <td>Just when George Banks has recovered from his ...</td>\n",
       "      <td>5.7</td>\n",
       "      <td>173.0</td>\n",
       "      <td>[{'cast_id': 1, 'character': 'George Banks', '...</td>\n",
       "      <td>[{'credit_id': '52fe44959251416c75039ed7', 'de...</td>\n",
       "      <td>[{'id': 1009, 'name': 'baby'}, {'id': 1599, 'n...</td>\n",
       "    </tr>\n",
       "  </tbody>\n",
       "</table>\n",
       "</div>"
      ],
      "text/plain": [
       "                                              genres     id    imdb_id  \\\n",
       "0  [{'id': 16, 'name': 'Animation'}, {'id': 35, '...    862  tt0114709   \n",
       "1  [{'id': 12, 'name': 'Adventure'}, {'id': 14, '...   8844  tt0113497   \n",
       "2  [{'id': 10749, 'name': 'Romance'}, {'id': 35, ...  15602  tt0113228   \n",
       "3  [{'id': 35, 'name': 'Comedy'}, {'id': 18, 'nam...  31357  tt0114885   \n",
       "4                     [{'id': 35, 'name': 'Comedy'}]  11862  tt0113041   \n",
       "\n",
       "                original_title  \\\n",
       "0                    Toy Story   \n",
       "1                      Jumanji   \n",
       "2             Grumpier Old Men   \n",
       "3            Waiting to Exhale   \n",
       "4  Father of the Bride Part II   \n",
       "\n",
       "                                            overview  vote_average  \\\n",
       "0  Led by Woody, Andy's toys live happily in his ...           7.7   \n",
       "1  When siblings Judy and Peter discover an encha...           6.9   \n",
       "2  A family wedding reignites the ancient feud be...           6.5   \n",
       "3  Cheated on, mistreated and stepped on, the wom...           6.1   \n",
       "4  Just when George Banks has recovered from his ...           5.7   \n",
       "\n",
       "   vote_count                                               cast  \\\n",
       "0      5415.0  [{'cast_id': 14, 'character': 'Woody (voice)',...   \n",
       "1      2413.0  [{'cast_id': 1, 'character': 'Alan Parrish', '...   \n",
       "2        92.0  [{'cast_id': 2, 'character': 'Max Goldman', 'c...   \n",
       "3        34.0  [{'cast_id': 1, 'character': \"Savannah 'Vannah...   \n",
       "4       173.0  [{'cast_id': 1, 'character': 'George Banks', '...   \n",
       "\n",
       "                                                crew  \\\n",
       "0  [{'credit_id': '52fe4284c3a36847f8024f49', 'de...   \n",
       "1  [{'credit_id': '52fe44bfc3a36847f80a7cd1', 'de...   \n",
       "2  [{'credit_id': '52fe466a9251416c75077a89', 'de...   \n",
       "3  [{'credit_id': '52fe44779251416c91011acb', 'de...   \n",
       "4  [{'credit_id': '52fe44959251416c75039ed7', 'de...   \n",
       "\n",
       "                                            keywords  \n",
       "0  [{'id': 931, 'name': 'jealousy'}, {'id': 4290,...  \n",
       "1  [{'id': 10090, 'name': 'board game'}, {'id': 1...  \n",
       "2  [{'id': 1495, 'name': 'fishing'}, {'id': 12392...  \n",
       "3  [{'id': 818, 'name': 'based on novel'}, {'id':...  \n",
       "4  [{'id': 1009, 'name': 'baby'}, {'id': 1599, 'n...  "
      ]
     },
     "execution_count": 14,
     "metadata": {},
     "output_type": "execute_result"
    }
   ],
   "source": [
    "movies = moviedf[['genres', 'id', 'imdb_id', 'original_title', 'overview', 'vote_average', 'vote_count', 'cast', 'crew', 'keywords']]\n",
    "print(movies.shape)\n",
    "movies.head()"
   ]
  },
  {
   "cell_type": "markdown",
   "id": "dbb6f2dc",
   "metadata": {},
   "source": [
    "# Cleaning Cast, Crew, Keyword & Genre Column"
   ]
  },
  {
   "cell_type": "code",
   "execution_count": 15,
   "id": "1df25c1e",
   "metadata": {},
   "outputs": [],
   "source": [
    "from ast import literal_eval"
   ]
  },
  {
   "cell_type": "code",
   "execution_count": 16,
   "id": "e721aaa8",
   "metadata": {},
   "outputs": [],
   "source": [
    "movies['cast'] = movies['cast'].apply(literal_eval)\n",
    "movies['crew'] = movies['crew'].apply(literal_eval)\n",
    "movies['keywords'] = movies['keywords'].apply(literal_eval)\n",
    "movies['genres'] = movies['genres'].apply(literal_eval)"
   ]
  },
  {
   "cell_type": "markdown",
   "id": "8c0348a5",
   "metadata": {},
   "source": [
    "# We are fetching only director from crew and after fetching the crew column is of no use."
   ]
  },
  {
   "cell_type": "code",
   "execution_count": 17,
   "id": "9c65ff99",
   "metadata": {},
   "outputs": [],
   "source": [
    "def get_director(x):\n",
    "    for i in x:\n",
    "        if i['job'] == 'Director':\n",
    "            return i['name']\n",
    "    return np.nan"
   ]
  },
  {
   "cell_type": "code",
   "execution_count": 18,
   "id": "aa5f0d24",
   "metadata": {},
   "outputs": [],
   "source": [
    "movies['director'] = movies['crew'].apply(get_director)"
   ]
  },
  {
   "cell_type": "code",
   "execution_count": 19,
   "id": "03c85c66",
   "metadata": {},
   "outputs": [
    {
     "data": {
      "text/plain": [
       "0      John Lasseter\n",
       "1       Joe Johnston\n",
       "2      Howard Deutch\n",
       "3    Forest Whitaker\n",
       "4      Charles Shyer\n",
       "Name: director, dtype: object"
      ]
     },
     "execution_count": 19,
     "metadata": {},
     "output_type": "execute_result"
    }
   ],
   "source": [
    "movies['director'].head()"
   ]
  },
  {
   "cell_type": "code",
   "execution_count": 20,
   "id": "1e0983e1",
   "metadata": {},
   "outputs": [],
   "source": [
    "movies['director'] = movies['director'].astype('str').apply(lambda x: str.lower(x.replace(\" \", \"\")))"
   ]
  },
  {
   "cell_type": "code",
   "execution_count": 21,
   "id": "e7bdc2c5",
   "metadata": {},
   "outputs": [],
   "source": [
    "movies['director'] = movies['director'].apply(lambda x: [x])"
   ]
  },
  {
   "cell_type": "code",
   "execution_count": 22,
   "id": "74d8b6a5",
   "metadata": {},
   "outputs": [
    {
     "data": {
      "text/plain": [
       "0      [johnlasseter]\n",
       "1       [joejohnston]\n",
       "2      [howarddeutch]\n",
       "3    [forestwhitaker]\n",
       "4      [charlesshyer]\n",
       "Name: director, dtype: object"
      ]
     },
     "execution_count": 22,
     "metadata": {},
     "output_type": "execute_result"
    }
   ],
   "source": [
    "movies['director'].head()"
   ]
  },
  {
   "cell_type": "markdown",
   "id": "80083bb3",
   "metadata": {},
   "source": [
    "# We are fetching the first three cast from the movie because they are famous"
   ]
  },
  {
   "cell_type": "code",
   "execution_count": 23,
   "id": "4da853c8",
   "metadata": {},
   "outputs": [],
   "source": [
    "movies['cast'] = movies['cast'].apply(lambda x: [i['name'] for i in x] if isinstance(x, list) else [])\n",
    "movies['cast'] = movies['cast'].apply(lambda x: x[:3] if len(x) >=3 else x)"
   ]
  },
  {
   "cell_type": "code",
   "execution_count": 24,
   "id": "410a621b",
   "metadata": {},
   "outputs": [
    {
     "data": {
      "text/plain": [
       "0                  [Tom Hanks, Tim Allen, Don Rickles]\n",
       "1       [Robin Williams, Jonathan Hyde, Kirsten Dunst]\n",
       "2           [Walter Matthau, Jack Lemmon, Ann-Margret]\n",
       "3    [Whitney Houston, Angela Bassett, Loretta Devine]\n",
       "4           [Steve Martin, Diane Keaton, Martin Short]\n",
       "Name: cast, dtype: object"
      ]
     },
     "execution_count": 24,
     "metadata": {},
     "output_type": "execute_result"
    }
   ],
   "source": [
    "movies['cast'].head()"
   ]
  },
  {
   "cell_type": "code",
   "execution_count": 25,
   "id": "7cd68afe",
   "metadata": {},
   "outputs": [],
   "source": [
    "movies['cast'] = movies['cast'].apply(lambda x: [str.lower(i.replace(\" \", \"\")) for i in x])"
   ]
  },
  {
   "cell_type": "code",
   "execution_count": 26,
   "id": "fe7a48be",
   "metadata": {},
   "outputs": [
    {
     "data": {
      "text/plain": [
       "0                  [tomhanks, timallen, donrickles]\n",
       "1       [robinwilliams, jonathanhyde, kirstendunst]\n",
       "2          [waltermatthau, jacklemmon, ann-margret]\n",
       "3    [whitneyhouston, angelabassett, lorettadevine]\n",
       "4           [stevemartin, dianekeaton, martinshort]\n",
       "Name: cast, dtype: object"
      ]
     },
     "execution_count": 26,
     "metadata": {},
     "output_type": "execute_result"
    }
   ],
   "source": [
    "movies.cast.head()"
   ]
  },
  {
   "cell_type": "markdown",
   "id": "d8e90237",
   "metadata": {},
   "source": [
    "# We had the keywords with id so we are fetching only keywords from it.¶"
   ]
  },
  {
   "cell_type": "code",
   "execution_count": 27,
   "id": "f2b4a4a1",
   "metadata": {},
   "outputs": [],
   "source": [
    "movies['keywords'] = movies['keywords'].apply(lambda x: [i['name'] for i in x] if isinstance(x, list) else [])"
   ]
  },
  {
   "cell_type": "code",
   "execution_count": 28,
   "id": "a12a20c3",
   "metadata": {},
   "outputs": [
    {
     "data": {
      "text/plain": [
       "0    [jealousy, toy, boy, friendship, friends, riva...\n",
       "1    [board game, disappearance, based on children'...\n",
       "2    [fishing, best friend, duringcreditsstinger, o...\n",
       "3    [based on novel, interracial relationship, sin...\n",
       "4    [baby, midlife crisis, confidence, aging, daug...\n",
       "Name: keywords, dtype: object"
      ]
     },
     "execution_count": 28,
     "metadata": {},
     "output_type": "execute_result"
    }
   ],
   "source": [
    "movies['keywords'].head()"
   ]
  },
  {
   "cell_type": "code",
   "execution_count": 29,
   "id": "f409c92e",
   "metadata": {},
   "outputs": [],
   "source": [
    "from nltk.stem.snowball import SnowballStemmer\n",
    "from nltk.stem.wordnet import WordNetLemmatizer"
   ]
  },
  {
   "cell_type": "code",
   "execution_count": 30,
   "id": "047cda24",
   "metadata": {},
   "outputs": [
    {
     "data": {
      "text/plain": [
       "['jealousi',\n",
       " 'toy',\n",
       " 'boy',\n",
       " 'friendship',\n",
       " 'friend',\n",
       " 'rivalri',\n",
       " 'boy next door',\n",
       " 'new toy',\n",
       " 'toy comes to lif']"
      ]
     },
     "execution_count": 30,
     "metadata": {},
     "output_type": "execute_result"
    }
   ],
   "source": [
    "stemmer = SnowballStemmer('english')\n",
    "movies['keywords'] = movies['keywords'].apply(lambda x: [stemmer.stem(i) for i in x])\n",
    "movies['keywords'][0]"
   ]
  },
  {
   "cell_type": "code",
   "execution_count": 31,
   "id": "19b61d05",
   "metadata": {
    "scrolled": true
   },
   "outputs": [
    {
     "data": {
      "text/plain": [
       "['jealousi',\n",
       " 'toy',\n",
       " 'boy',\n",
       " 'friendship',\n",
       " 'friend',\n",
       " 'rivalri',\n",
       " 'boynextdoor',\n",
       " 'newtoy',\n",
       " 'toycomestolif']"
      ]
     },
     "execution_count": 31,
     "metadata": {},
     "output_type": "execute_result"
    }
   ],
   "source": [
    "movies['keywords'] = movies['keywords'].apply(lambda x: [str.lower(i.replace(\" \", \"\")) for i in x])\n",
    "movies['keywords'][0]"
   ]
  },
  {
   "cell_type": "markdown",
   "id": "49393015",
   "metadata": {},
   "source": [
    "# We had a genres with id so we are fetching only genres from there."
   ]
  },
  {
   "cell_type": "code",
   "execution_count": 32,
   "id": "9455bcbb",
   "metadata": {
    "scrolled": true
   },
   "outputs": [
    {
     "data": {
      "text/plain": [
       "[{'id': 16, 'name': 'Animation'},\n",
       " {'id': 35, 'name': 'Comedy'},\n",
       " {'id': 10751, 'name': 'Family'}]"
      ]
     },
     "execution_count": 32,
     "metadata": {},
     "output_type": "execute_result"
    }
   ],
   "source": [
    "movies['genres'][0]"
   ]
  },
  {
   "cell_type": "code",
   "execution_count": 33,
   "id": "8a5cf382",
   "metadata": {},
   "outputs": [
    {
     "data": {
      "text/plain": [
       "Index(['genres', 'id', 'imdb_id', 'original_title', 'overview', 'vote_average',\n",
       "       'vote_count', 'cast', 'crew', 'keywords', 'director'],\n",
       "      dtype='object')"
      ]
     },
     "execution_count": 33,
     "metadata": {},
     "output_type": "execute_result"
    }
   ],
   "source": [
    "movies.columns"
   ]
  },
  {
   "cell_type": "code",
   "execution_count": 34,
   "id": "d731fa1f",
   "metadata": {},
   "outputs": [],
   "source": [
    "movies['genres'] = movies['genres'].apply(lambda x: [i['name'] for i in x] if isinstance(x, list) else [])"
   ]
  },
  {
   "cell_type": "code",
   "execution_count": 35,
   "id": "11041932",
   "metadata": {},
   "outputs": [
    {
     "data": {
      "text/plain": [
       "0     [Animation, Comedy, Family]\n",
       "1    [Adventure, Fantasy, Family]\n",
       "2               [Romance, Comedy]\n",
       "3        [Comedy, Drama, Romance]\n",
       "4                        [Comedy]\n",
       "Name: genres, dtype: object"
      ]
     },
     "execution_count": 35,
     "metadata": {},
     "output_type": "execute_result"
    }
   ],
   "source": [
    "movies['genres'].head()"
   ]
  },
  {
   "cell_type": "markdown",
   "id": "ce5f5b26",
   "metadata": {},
   "source": [
    "# Cleaning Overview"
   ]
  },
  {
   "cell_type": "code",
   "execution_count": 36,
   "id": "c6198ed3",
   "metadata": {},
   "outputs": [
    {
     "name": "stdout",
     "output_type": "stream",
     "text": [
      "genres             object\n",
      "id                  int32\n",
      "imdb_id            object\n",
      "original_title     object\n",
      "overview           object\n",
      "vote_average      float64\n",
      "vote_count        float64\n",
      "cast               object\n",
      "crew               object\n",
      "keywords           object\n",
      "director           object\n",
      "dtype: object\n"
     ]
    }
   ],
   "source": [
    "result = movies.dtypes\n",
    "print(result)"
   ]
  },
  {
   "cell_type": "code",
   "execution_count": 37,
   "id": "d1d66be9",
   "metadata": {
    "scrolled": true
   },
   "outputs": [
    {
     "data": {
      "text/plain": [
       "0       Led by Woody, Andy's toys live happily in his ...\n",
       "1       When siblings Judy and Peter discover an encha...\n",
       "2       A family wedding reignites the ancient feud be...\n",
       "3       Cheated on, mistreated and stepped on, the wom...\n",
       "4       Just when George Banks has recovered from his ...\n",
       "                              ...                        \n",
       "9214    A man must cope with the loss of his wife and ...\n",
       "9215    Rustom Pavri, an honourable officer of the Ind...\n",
       "9216    Village lad Sarman is drawn to big, bad Mohenj...\n",
       "9217    From the mind behind Evangelion comes a hit la...\n",
       "9218    The band stormed Europe in 1963, and, in 1964,...\n",
       "Name: overview, Length: 9219, dtype: object"
      ]
     },
     "execution_count": 37,
     "metadata": {},
     "output_type": "execute_result"
    }
   ],
   "source": [
    "movies['overview']"
   ]
  },
  {
   "cell_type": "code",
   "execution_count": 38,
   "id": "586f71a3",
   "metadata": {},
   "outputs": [],
   "source": [
    "%matplotlib inline\n",
    "import matplotlib.pyplot as plt\n",
    "import seaborn as sns\n",
    "from scipy import stats\n",
    "from ast import literal_eval\n",
    "from sklearn.feature_extraction.text import TfidfVectorizer, CountVectorizer\n",
    "from sklearn.metrics.pairwise import linear_kernel, cosine_similarity\n",
    "from nltk.stem.snowball import SnowballStemmer\n",
    "from nltk.stem.wordnet import WordNetLemmatizer\n",
    "from nltk.corpus import wordnet\n",
    "\n",
    "import warnings; warnings.simplefilter('ignore')"
   ]
  },
  {
   "cell_type": "code",
   "execution_count": 39,
   "id": "4c25a55c",
   "metadata": {},
   "outputs": [],
   "source": [
    "movies['overview'] = movies['overview'].fillna('')"
   ]
  },
  {
   "cell_type": "code",
   "execution_count": 40,
   "id": "22095e02",
   "metadata": {},
   "outputs": [
    {
     "data": {
      "text/plain": [
       "'led by woody andys toys live happily in his room until andys birthday brings buzz lightyear onto the scene afraid of losing his place in andys heart woody plots against buzz but when circumstances separate buzz and woody from their owner the duo eventually learns to put aside their differences'"
      ]
     },
     "execution_count": 40,
     "metadata": {},
     "output_type": "execute_result"
    }
   ],
   "source": [
    "import re\n",
    "\n",
    "def clean_description(text):\n",
    "    text = re.sub(\"\\'\", \"\", text)\n",
    "    text = re.sub(\"[^a-zA-Z]\",\" \",text)\n",
    "    text = ' '.join(text.split())\n",
    "    text = text.lower()\n",
    "    return text\n",
    "\n",
    "movies['clean_overview'] = movies['overview'].apply(lambda x: clean_description(x))\n",
    "movies['clean_overview'][0]"
   ]
  },
  {
   "cell_type": "code",
   "execution_count": 41,
   "id": "79ce57fe",
   "metadata": {},
   "outputs": [],
   "source": [
    "movies['clean_overview'] = movies['clean_overview'].apply(lambda x: [x])"
   ]
  },
  {
   "cell_type": "code",
   "execution_count": 42,
   "id": "74cc0888",
   "metadata": {},
   "outputs": [
    {
     "data": {
      "text/plain": [
       "0       [led by woody andys toys live happily in his r...\n",
       "1       [when siblings judy and peter discover an ench...\n",
       "2       [a family wedding reignites the ancient feud b...\n",
       "3       [cheated on mistreated and stepped on the wome...\n",
       "4       [just when george banks has recovered from his...\n",
       "                              ...                        \n",
       "9214    [a man must cope with the loss of his wife and...\n",
       "9215    [rustom pavri an honourable officer of the ind...\n",
       "9216    [village lad sarman is drawn to big bad mohenj...\n",
       "9217    [from the mind behind evangelion comes a hit l...\n",
       "9218    [the band stormed europe in and in they conque...\n",
       "Name: clean_overview, Length: 9219, dtype: object"
      ]
     },
     "execution_count": 42,
     "metadata": {},
     "output_type": "execute_result"
    }
   ],
   "source": [
    "movies['clean_overview']"
   ]
  },
  {
   "cell_type": "markdown",
   "id": "c84bd7d2",
   "metadata": {},
   "source": [
    "# Combining"
   ]
  },
  {
   "cell_type": "code",
   "execution_count": 43,
   "id": "efa0a36f",
   "metadata": {},
   "outputs": [],
   "source": [
    "movies['description'] = movies['genres']+movies['clean_overview']+movies['cast']+movies['crew']+movies['keywords']\n",
    "movies['description'] = movies['description'].fillna('')"
   ]
  },
  {
   "cell_type": "code",
   "execution_count": 44,
   "id": "a52ac110",
   "metadata": {
    "scrolled": true
   },
   "outputs": [
    {
     "data": {
      "text/plain": [
       "0       [Animation, Comedy, Family, led by woody andys...\n",
       "1       [Adventure, Fantasy, Family, when siblings jud...\n",
       "2       [Romance, Comedy, a family wedding reignites t...\n",
       "3       [Comedy, Drama, Romance, cheated on mistreated...\n",
       "4       [Comedy, just when george banks has recovered ...\n",
       "                              ...                        \n",
       "9214    [Drama, a man must cope with the loss of his w...\n",
       "9215    [Thriller, Romance, rustom pavri an honourable...\n",
       "9216    [Adventure, Drama, History, Romance, village l...\n",
       "9217    [Action, Adventure, Drama, Horror, Science Fic...\n",
       "9218    [Documentary, Music, the band stormed europe i...\n",
       "Name: description, Length: 9219, dtype: object"
      ]
     },
     "execution_count": 44,
     "metadata": {},
     "output_type": "execute_result"
    }
   ],
   "source": [
    "movies['description']"
   ]
  },
  {
   "cell_type": "code",
   "execution_count": 45,
   "id": "fe5c97b3",
   "metadata": {},
   "outputs": [
    {
     "data": {
      "text/plain": [
       "0       Animation,Comedy,Family,led by woody andys toy...\n",
       "1       Adventure,Fantasy,Family,when siblings judy an...\n",
       "2       Romance,Comedy,a family wedding reignites the ...\n",
       "3       Comedy,Drama,Romance,cheated on mistreated and...\n",
       "4       Comedy,just when george banks has recovered fr...\n",
       "                              ...                        \n",
       "9214    Drama,a man must cope with the loss of his wif...\n",
       "9215    Thriller,Romance,rustom pavri an honourable of...\n",
       "9216    Adventure,Drama,History,Romance,village lad sa...\n",
       "9217    Action,Adventure,Drama,Horror,Science Fiction,...\n",
       "9218    Documentary,Music,the band stormed europe in a...\n",
       "Name: description, Length: 9219, dtype: object"
      ]
     },
     "execution_count": 45,
     "metadata": {},
     "output_type": "execute_result"
    }
   ],
   "source": [
    "movies['description'] = [','.join(map(str, l)) for l in movies['description']]\n",
    "movies['description']"
   ]
  },
  {
   "cell_type": "markdown",
   "id": "4f436f8c",
   "metadata": {},
   "source": [
    "# Generate Function"
   ]
  },
  {
   "cell_type": "code",
   "execution_count": 46,
   "id": "56b00e9f",
   "metadata": {},
   "outputs": [],
   "source": [
    "def generate_int_id(dataframe, id_col_name):\n",
    "    new_dataframe=dataframe.assign(\n",
    "        int_id_col_name=np.arange(len(dataframe))\n",
    "        ).reset_index(drop=True)\n",
    "    return new_dataframe.rename(columns={'int_id_col_name': id_col_name})\n",
    "\n",
    "\n",
    "\n",
    "def create_features(dataframe, features_name, id_col_name):\n",
    "    features = dataframe[features_name].apply(\n",
    "        lambda x: ','.join(x.map(str)), axis=1)\n",
    "    features = features.str.split(',')\n",
    "    features = list(zip(dataframe[id_col_name], features))\n",
    "    return features\n",
    "\n",
    "\n",
    "\n",
    "def generate_feature_list(dataframe, features_name):\n",
    "    features = dataframe[features_name].apply(\n",
    "        lambda x: ','.join(x.map(str)), axis=1)\n",
    "    features = features.str.split(',')\n",
    "    features = features.apply(pd.Series).stack().reset_index(drop=True)\n",
    "    return features\n",
    "\n",
    "\n",
    "def calculate_auc_score(lightfm_model, interactions_matrix, question_features, professional_features): \n",
    "    score = auc_score( \n",
    "        lightfm_model, interactions_matrix, \n",
    "        item_features=question_features, \n",
    "        user_features=professional_features, \n",
    "        num_threads=4).mean()\n",
    "    return score"
   ]
  },
  {
   "cell_type": "code",
   "execution_count": 47,
   "id": "73a331ef",
   "metadata": {},
   "outputs": [
    {
     "data": {
      "text/html": [
       "<div>\n",
       "<style scoped>\n",
       "    .dataframe tbody tr th:only-of-type {\n",
       "        vertical-align: middle;\n",
       "    }\n",
       "\n",
       "    .dataframe tbody tr th {\n",
       "        vertical-align: top;\n",
       "    }\n",
       "\n",
       "    .dataframe thead th {\n",
       "        text-align: right;\n",
       "    }\n",
       "</style>\n",
       "<table border=\"1\" class=\"dataframe\">\n",
       "  <thead>\n",
       "    <tr style=\"text-align: right;\">\n",
       "      <th></th>\n",
       "      <th>genres</th>\n",
       "      <th>id</th>\n",
       "      <th>imdb_id</th>\n",
       "      <th>original_title</th>\n",
       "      <th>overview</th>\n",
       "      <th>vote_average</th>\n",
       "      <th>vote_count</th>\n",
       "      <th>cast</th>\n",
       "      <th>crew</th>\n",
       "      <th>keywords</th>\n",
       "      <th>director</th>\n",
       "      <th>clean_overview</th>\n",
       "      <th>description</th>\n",
       "    </tr>\n",
       "  </thead>\n",
       "  <tbody>\n",
       "    <tr>\n",
       "      <th>0</th>\n",
       "      <td>[Animation, Comedy, Family]</td>\n",
       "      <td>862</td>\n",
       "      <td>tt0114709</td>\n",
       "      <td>Toy Story</td>\n",
       "      <td>Led by Woody, Andy's toys live happily in his ...</td>\n",
       "      <td>7.7</td>\n",
       "      <td>5415.0</td>\n",
       "      <td>[tomhanks, timallen, donrickles]</td>\n",
       "      <td>[{'credit_id': '52fe4284c3a36847f8024f49', 'de...</td>\n",
       "      <td>[jealousi, toy, boy, friendship, friend, rival...</td>\n",
       "      <td>[johnlasseter]</td>\n",
       "      <td>[led by woody andys toys live happily in his r...</td>\n",
       "      <td>Animation,Comedy,Family,led by woody andys toy...</td>\n",
       "    </tr>\n",
       "    <tr>\n",
       "      <th>1</th>\n",
       "      <td>[Adventure, Fantasy, Family]</td>\n",
       "      <td>8844</td>\n",
       "      <td>tt0113497</td>\n",
       "      <td>Jumanji</td>\n",
       "      <td>When siblings Judy and Peter discover an encha...</td>\n",
       "      <td>6.9</td>\n",
       "      <td>2413.0</td>\n",
       "      <td>[robinwilliams, jonathanhyde, kirstendunst]</td>\n",
       "      <td>[{'credit_id': '52fe44bfc3a36847f80a7cd1', 'de...</td>\n",
       "      <td>[boardgam, disappear, basedonchildren'sbook, n...</td>\n",
       "      <td>[joejohnston]</td>\n",
       "      <td>[when siblings judy and peter discover an ench...</td>\n",
       "      <td>Adventure,Fantasy,Family,when siblings judy an...</td>\n",
       "    </tr>\n",
       "    <tr>\n",
       "      <th>2</th>\n",
       "      <td>[Romance, Comedy]</td>\n",
       "      <td>15602</td>\n",
       "      <td>tt0113228</td>\n",
       "      <td>Grumpier Old Men</td>\n",
       "      <td>A family wedding reignites the ancient feud be...</td>\n",
       "      <td>6.5</td>\n",
       "      <td>92.0</td>\n",
       "      <td>[waltermatthau, jacklemmon, ann-margret]</td>\n",
       "      <td>[{'credit_id': '52fe466a9251416c75077a89', 'de...</td>\n",
       "      <td>[fish, bestfriend, duringcreditssting, oldmen]</td>\n",
       "      <td>[howarddeutch]</td>\n",
       "      <td>[a family wedding reignites the ancient feud b...</td>\n",
       "      <td>Romance,Comedy,a family wedding reignites the ...</td>\n",
       "    </tr>\n",
       "    <tr>\n",
       "      <th>3</th>\n",
       "      <td>[Comedy, Drama, Romance]</td>\n",
       "      <td>31357</td>\n",
       "      <td>tt0114885</td>\n",
       "      <td>Waiting to Exhale</td>\n",
       "      <td>Cheated on, mistreated and stepped on, the wom...</td>\n",
       "      <td>6.1</td>\n",
       "      <td>34.0</td>\n",
       "      <td>[whitneyhouston, angelabassett, lorettadevine]</td>\n",
       "      <td>[{'credit_id': '52fe44779251416c91011acb', 'de...</td>\n",
       "      <td>[basedonnovel, interracialrelationship, single...</td>\n",
       "      <td>[forestwhitaker]</td>\n",
       "      <td>[cheated on mistreated and stepped on the wome...</td>\n",
       "      <td>Comedy,Drama,Romance,cheated on mistreated and...</td>\n",
       "    </tr>\n",
       "    <tr>\n",
       "      <th>4</th>\n",
       "      <td>[Comedy]</td>\n",
       "      <td>11862</td>\n",
       "      <td>tt0113041</td>\n",
       "      <td>Father of the Bride Part II</td>\n",
       "      <td>Just when George Banks has recovered from his ...</td>\n",
       "      <td>5.7</td>\n",
       "      <td>173.0</td>\n",
       "      <td>[stevemartin, dianekeaton, martinshort]</td>\n",
       "      <td>[{'credit_id': '52fe44959251416c75039ed7', 'de...</td>\n",
       "      <td>[babi, midlifecrisi, confid, age, daughter, mo...</td>\n",
       "      <td>[charlesshyer]</td>\n",
       "      <td>[just when george banks has recovered from his...</td>\n",
       "      <td>Comedy,just when george banks has recovered fr...</td>\n",
       "    </tr>\n",
       "  </tbody>\n",
       "</table>\n",
       "</div>"
      ],
      "text/plain": [
       "                         genres     id    imdb_id  \\\n",
       "0   [Animation, Comedy, Family]    862  tt0114709   \n",
       "1  [Adventure, Fantasy, Family]   8844  tt0113497   \n",
       "2             [Romance, Comedy]  15602  tt0113228   \n",
       "3      [Comedy, Drama, Romance]  31357  tt0114885   \n",
       "4                      [Comedy]  11862  tt0113041   \n",
       "\n",
       "                original_title  \\\n",
       "0                    Toy Story   \n",
       "1                      Jumanji   \n",
       "2             Grumpier Old Men   \n",
       "3            Waiting to Exhale   \n",
       "4  Father of the Bride Part II   \n",
       "\n",
       "                                            overview  vote_average  \\\n",
       "0  Led by Woody, Andy's toys live happily in his ...           7.7   \n",
       "1  When siblings Judy and Peter discover an encha...           6.9   \n",
       "2  A family wedding reignites the ancient feud be...           6.5   \n",
       "3  Cheated on, mistreated and stepped on, the wom...           6.1   \n",
       "4  Just when George Banks has recovered from his ...           5.7   \n",
       "\n",
       "   vote_count                                            cast  \\\n",
       "0      5415.0                [tomhanks, timallen, donrickles]   \n",
       "1      2413.0     [robinwilliams, jonathanhyde, kirstendunst]   \n",
       "2        92.0        [waltermatthau, jacklemmon, ann-margret]   \n",
       "3        34.0  [whitneyhouston, angelabassett, lorettadevine]   \n",
       "4       173.0         [stevemartin, dianekeaton, martinshort]   \n",
       "\n",
       "                                                crew  \\\n",
       "0  [{'credit_id': '52fe4284c3a36847f8024f49', 'de...   \n",
       "1  [{'credit_id': '52fe44bfc3a36847f80a7cd1', 'de...   \n",
       "2  [{'credit_id': '52fe466a9251416c75077a89', 'de...   \n",
       "3  [{'credit_id': '52fe44779251416c91011acb', 'de...   \n",
       "4  [{'credit_id': '52fe44959251416c75039ed7', 'de...   \n",
       "\n",
       "                                            keywords          director  \\\n",
       "0  [jealousi, toy, boy, friendship, friend, rival...    [johnlasseter]   \n",
       "1  [boardgam, disappear, basedonchildren'sbook, n...     [joejohnston]   \n",
       "2     [fish, bestfriend, duringcreditssting, oldmen]    [howarddeutch]   \n",
       "3  [basedonnovel, interracialrelationship, single...  [forestwhitaker]   \n",
       "4  [babi, midlifecrisi, confid, age, daughter, mo...    [charlesshyer]   \n",
       "\n",
       "                                      clean_overview  \\\n",
       "0  [led by woody andys toys live happily in his r...   \n",
       "1  [when siblings judy and peter discover an ench...   \n",
       "2  [a family wedding reignites the ancient feud b...   \n",
       "3  [cheated on mistreated and stepped on the wome...   \n",
       "4  [just when george banks has recovered from his...   \n",
       "\n",
       "                                         description  \n",
       "0  Animation,Comedy,Family,led by woody andys toy...  \n",
       "1  Adventure,Fantasy,Family,when siblings judy an...  \n",
       "2  Romance,Comedy,a family wedding reignites the ...  \n",
       "3  Comedy,Drama,Romance,cheated on mistreated and...  \n",
       "4  Comedy,just when george banks has recovered fr...  "
      ]
     },
     "execution_count": 47,
     "metadata": {},
     "output_type": "execute_result"
    }
   ],
   "source": [
    "movies.head()"
   ]
  },
  {
   "cell_type": "code",
   "execution_count": 48,
   "id": "96e79afc",
   "metadata": {},
   "outputs": [
    {
     "data": {
      "text/html": [
       "<div>\n",
       "<style scoped>\n",
       "    .dataframe tbody tr th:only-of-type {\n",
       "        vertical-align: middle;\n",
       "    }\n",
       "\n",
       "    .dataframe tbody tr th {\n",
       "        vertical-align: top;\n",
       "    }\n",
       "\n",
       "    .dataframe thead th {\n",
       "        text-align: right;\n",
       "    }\n",
       "</style>\n",
       "<table border=\"1\" class=\"dataframe\">\n",
       "  <thead>\n",
       "    <tr style=\"text-align: right;\">\n",
       "      <th></th>\n",
       "      <th>id</th>\n",
       "      <th>original_title</th>\n",
       "      <th>vote_average</th>\n",
       "      <th>vote_count</th>\n",
       "      <th>description</th>\n",
       "    </tr>\n",
       "  </thead>\n",
       "  <tbody>\n",
       "    <tr>\n",
       "      <th>0</th>\n",
       "      <td>862</td>\n",
       "      <td>Toy Story</td>\n",
       "      <td>7.7</td>\n",
       "      <td>5415.0</td>\n",
       "      <td>Animation,Comedy,Family,led by woody andys toy...</td>\n",
       "    </tr>\n",
       "    <tr>\n",
       "      <th>1</th>\n",
       "      <td>8844</td>\n",
       "      <td>Jumanji</td>\n",
       "      <td>6.9</td>\n",
       "      <td>2413.0</td>\n",
       "      <td>Adventure,Fantasy,Family,when siblings judy an...</td>\n",
       "    </tr>\n",
       "    <tr>\n",
       "      <th>2</th>\n",
       "      <td>15602</td>\n",
       "      <td>Grumpier Old Men</td>\n",
       "      <td>6.5</td>\n",
       "      <td>92.0</td>\n",
       "      <td>Romance,Comedy,a family wedding reignites the ...</td>\n",
       "    </tr>\n",
       "    <tr>\n",
       "      <th>3</th>\n",
       "      <td>31357</td>\n",
       "      <td>Waiting to Exhale</td>\n",
       "      <td>6.1</td>\n",
       "      <td>34.0</td>\n",
       "      <td>Comedy,Drama,Romance,cheated on mistreated and...</td>\n",
       "    </tr>\n",
       "    <tr>\n",
       "      <th>4</th>\n",
       "      <td>11862</td>\n",
       "      <td>Father of the Bride Part II</td>\n",
       "      <td>5.7</td>\n",
       "      <td>173.0</td>\n",
       "      <td>Comedy,just when george banks has recovered fr...</td>\n",
       "    </tr>\n",
       "  </tbody>\n",
       "</table>\n",
       "</div>"
      ],
      "text/plain": [
       "      id               original_title  vote_average  vote_count  \\\n",
       "0    862                    Toy Story           7.7      5415.0   \n",
       "1   8844                      Jumanji           6.9      2413.0   \n",
       "2  15602             Grumpier Old Men           6.5        92.0   \n",
       "3  31357            Waiting to Exhale           6.1        34.0   \n",
       "4  11862  Father of the Bride Part II           5.7       173.0   \n",
       "\n",
       "                                         description  \n",
       "0  Animation,Comedy,Family,led by woody andys toy...  \n",
       "1  Adventure,Fantasy,Family,when siblings judy an...  \n",
       "2  Romance,Comedy,a family wedding reignites the ...  \n",
       "3  Comedy,Drama,Romance,cheated on mistreated and...  \n",
       "4  Comedy,just when george banks has recovered fr...  "
      ]
     },
     "execution_count": 48,
     "metadata": {},
     "output_type": "execute_result"
    }
   ],
   "source": [
    "movies = movies[['id', 'original_title', 'vote_average', 'vote_count', 'description']]\n",
    "movies.head()"
   ]
  },
  {
   "cell_type": "code",
   "execution_count": 49,
   "id": "bdbbb1ec",
   "metadata": {},
   "outputs": [
    {
     "data": {
      "text/html": [
       "<div>\n",
       "<style scoped>\n",
       "    .dataframe tbody tr th:only-of-type {\n",
       "        vertical-align: middle;\n",
       "    }\n",
       "\n",
       "    .dataframe tbody tr th {\n",
       "        vertical-align: top;\n",
       "    }\n",
       "\n",
       "    .dataframe thead th {\n",
       "        text-align: right;\n",
       "    }\n",
       "</style>\n",
       "<table border=\"1\" class=\"dataframe\">\n",
       "  <thead>\n",
       "    <tr style=\"text-align: right;\">\n",
       "      <th></th>\n",
       "      <th>id</th>\n",
       "      <th>original_title</th>\n",
       "      <th>vote_average</th>\n",
       "      <th>vote_count</th>\n",
       "      <th>description</th>\n",
       "      <th>movies_id_num</th>\n",
       "    </tr>\n",
       "  </thead>\n",
       "  <tbody>\n",
       "    <tr>\n",
       "      <th>0</th>\n",
       "      <td>862</td>\n",
       "      <td>Toy Story</td>\n",
       "      <td>7.7</td>\n",
       "      <td>5415.0</td>\n",
       "      <td>Animation,Comedy,Family,led by woody andys toy...</td>\n",
       "      <td>0</td>\n",
       "    </tr>\n",
       "    <tr>\n",
       "      <th>1</th>\n",
       "      <td>8844</td>\n",
       "      <td>Jumanji</td>\n",
       "      <td>6.9</td>\n",
       "      <td>2413.0</td>\n",
       "      <td>Adventure,Fantasy,Family,when siblings judy an...</td>\n",
       "      <td>1</td>\n",
       "    </tr>\n",
       "    <tr>\n",
       "      <th>2</th>\n",
       "      <td>15602</td>\n",
       "      <td>Grumpier Old Men</td>\n",
       "      <td>6.5</td>\n",
       "      <td>92.0</td>\n",
       "      <td>Romance,Comedy,a family wedding reignites the ...</td>\n",
       "      <td>2</td>\n",
       "    </tr>\n",
       "    <tr>\n",
       "      <th>3</th>\n",
       "      <td>31357</td>\n",
       "      <td>Waiting to Exhale</td>\n",
       "      <td>6.1</td>\n",
       "      <td>34.0</td>\n",
       "      <td>Comedy,Drama,Romance,cheated on mistreated and...</td>\n",
       "      <td>3</td>\n",
       "    </tr>\n",
       "    <tr>\n",
       "      <th>4</th>\n",
       "      <td>11862</td>\n",
       "      <td>Father of the Bride Part II</td>\n",
       "      <td>5.7</td>\n",
       "      <td>173.0</td>\n",
       "      <td>Comedy,just when george banks has recovered fr...</td>\n",
       "      <td>4</td>\n",
       "    </tr>\n",
       "  </tbody>\n",
       "</table>\n",
       "</div>"
      ],
      "text/plain": [
       "      id               original_title  vote_average  vote_count  \\\n",
       "0    862                    Toy Story           7.7      5415.0   \n",
       "1   8844                      Jumanji           6.9      2413.0   \n",
       "2  15602             Grumpier Old Men           6.5        92.0   \n",
       "3  31357            Waiting to Exhale           6.1        34.0   \n",
       "4  11862  Father of the Bride Part II           5.7       173.0   \n",
       "\n",
       "                                         description  movies_id_num  \n",
       "0  Animation,Comedy,Family,led by woody andys toy...              0  \n",
       "1  Adventure,Fantasy,Family,when siblings judy an...              1  \n",
       "2  Romance,Comedy,a family wedding reignites the ...              2  \n",
       "3  Comedy,Drama,Romance,cheated on mistreated and...              3  \n",
       "4  Comedy,just when george banks has recovered fr...              4  "
      ]
     },
     "execution_count": 49,
     "metadata": {},
     "output_type": "execute_result"
    }
   ],
   "source": [
    "final_movies = generate_int_id(movies, 'movies_id_num')\n",
    "final_movies.head()"
   ]
  },
  {
   "cell_type": "code",
   "execution_count": 50,
   "id": "c237ea47",
   "metadata": {},
   "outputs": [
    {
     "data": {
      "text/html": [
       "<div>\n",
       "<style scoped>\n",
       "    .dataframe tbody tr th:only-of-type {\n",
       "        vertical-align: middle;\n",
       "    }\n",
       "\n",
       "    .dataframe tbody tr th {\n",
       "        vertical-align: top;\n",
       "    }\n",
       "\n",
       "    .dataframe thead th {\n",
       "        text-align: right;\n",
       "    }\n",
       "</style>\n",
       "<table border=\"1\" class=\"dataframe\">\n",
       "  <thead>\n",
       "    <tr style=\"text-align: right;\">\n",
       "      <th></th>\n",
       "      <th>id</th>\n",
       "      <th>original_title</th>\n",
       "      <th>vote_average</th>\n",
       "      <th>vote_count</th>\n",
       "      <th>item_tag_name</th>\n",
       "      <th>movies_id_num</th>\n",
       "    </tr>\n",
       "  </thead>\n",
       "  <tbody>\n",
       "    <tr>\n",
       "      <th>0</th>\n",
       "      <td>862</td>\n",
       "      <td>Toy Story</td>\n",
       "      <td>7.7</td>\n",
       "      <td>5415.0</td>\n",
       "      <td>Animation,Comedy,Family,led by woody andys toy...</td>\n",
       "      <td>0</td>\n",
       "    </tr>\n",
       "    <tr>\n",
       "      <th>1</th>\n",
       "      <td>8844</td>\n",
       "      <td>Jumanji</td>\n",
       "      <td>6.9</td>\n",
       "      <td>2413.0</td>\n",
       "      <td>Adventure,Fantasy,Family,when siblings judy an...</td>\n",
       "      <td>1</td>\n",
       "    </tr>\n",
       "    <tr>\n",
       "      <th>2</th>\n",
       "      <td>15602</td>\n",
       "      <td>Grumpier Old Men</td>\n",
       "      <td>6.5</td>\n",
       "      <td>92.0</td>\n",
       "      <td>Romance,Comedy,a family wedding reignites the ...</td>\n",
       "      <td>2</td>\n",
       "    </tr>\n",
       "    <tr>\n",
       "      <th>3</th>\n",
       "      <td>31357</td>\n",
       "      <td>Waiting to Exhale</td>\n",
       "      <td>6.1</td>\n",
       "      <td>34.0</td>\n",
       "      <td>Comedy,Drama,Romance,cheated on mistreated and...</td>\n",
       "      <td>3</td>\n",
       "    </tr>\n",
       "    <tr>\n",
       "      <th>4</th>\n",
       "      <td>11862</td>\n",
       "      <td>Father of the Bride Part II</td>\n",
       "      <td>5.7</td>\n",
       "      <td>173.0</td>\n",
       "      <td>Comedy,just when george banks has recovered fr...</td>\n",
       "      <td>4</td>\n",
       "    </tr>\n",
       "  </tbody>\n",
       "</table>\n",
       "</div>"
      ],
      "text/plain": [
       "      id               original_title  vote_average  vote_count  \\\n",
       "0    862                    Toy Story           7.7      5415.0   \n",
       "1   8844                      Jumanji           6.9      2413.0   \n",
       "2  15602             Grumpier Old Men           6.5        92.0   \n",
       "3  31357            Waiting to Exhale           6.1        34.0   \n",
       "4  11862  Father of the Bride Part II           5.7       173.0   \n",
       "\n",
       "                                       item_tag_name  movies_id_num  \n",
       "0  Animation,Comedy,Family,led by woody andys toy...              0  \n",
       "1  Adventure,Fantasy,Family,when siblings judy an...              1  \n",
       "2  Romance,Comedy,a family wedding reignites the ...              2  \n",
       "3  Comedy,Drama,Romance,cheated on mistreated and...              3  \n",
       "4  Comedy,just when george banks has recovered fr...              4  "
      ]
     },
     "execution_count": 50,
     "metadata": {},
     "output_type": "execute_result"
    }
   ],
   "source": [
    "final_movies = final_movies.rename(columns={'description': 'item_tag_name'})\n",
    "final_movies.head()"
   ]
  },
  {
   "cell_type": "code",
   "execution_count": 51,
   "id": "ef299c75",
   "metadata": {},
   "outputs": [
    {
     "data": {
      "text/html": [
       "<div>\n",
       "<style scoped>\n",
       "    .dataframe tbody tr th:only-of-type {\n",
       "        vertical-align: middle;\n",
       "    }\n",
       "\n",
       "    .dataframe tbody tr th {\n",
       "        vertical-align: top;\n",
       "    }\n",
       "\n",
       "    .dataframe thead th {\n",
       "        text-align: right;\n",
       "    }\n",
       "</style>\n",
       "<table border=\"1\" class=\"dataframe\">\n",
       "  <thead>\n",
       "    <tr style=\"text-align: right;\">\n",
       "      <th></th>\n",
       "      <th>userId</th>\n",
       "      <th>movieId</th>\n",
       "      <th>rating</th>\n",
       "      <th>timestamp</th>\n",
       "    </tr>\n",
       "  </thead>\n",
       "  <tbody>\n",
       "    <tr>\n",
       "      <th>4</th>\n",
       "      <td>1</td>\n",
       "      <td>1172</td>\n",
       "      <td>4.0</td>\n",
       "      <td>1260759205</td>\n",
       "    </tr>\n",
       "    <tr>\n",
       "      <th>12</th>\n",
       "      <td>1</td>\n",
       "      <td>1953</td>\n",
       "      <td>4.0</td>\n",
       "      <td>1260759191</td>\n",
       "    </tr>\n",
       "    <tr>\n",
       "      <th>13</th>\n",
       "      <td>1</td>\n",
       "      <td>2105</td>\n",
       "      <td>4.0</td>\n",
       "      <td>1260759139</td>\n",
       "    </tr>\n",
       "    <tr>\n",
       "      <th>20</th>\n",
       "      <td>2</td>\n",
       "      <td>10</td>\n",
       "      <td>4.0</td>\n",
       "      <td>835355493</td>\n",
       "    </tr>\n",
       "    <tr>\n",
       "      <th>21</th>\n",
       "      <td>2</td>\n",
       "      <td>17</td>\n",
       "      <td>5.0</td>\n",
       "      <td>835355681</td>\n",
       "    </tr>\n",
       "  </tbody>\n",
       "</table>\n",
       "</div>"
      ],
      "text/plain": [
       "    userId  movieId  rating   timestamp\n",
       "4        1     1172     4.0  1260759205\n",
       "12       1     1953     4.0  1260759191\n",
       "13       1     2105     4.0  1260759139\n",
       "20       2       10     4.0   835355493\n",
       "21       2       17     5.0   835355681"
      ]
     },
     "execution_count": 51,
     "metadata": {},
     "output_type": "execute_result"
    }
   ],
   "source": [
    "ratingdf.head()"
   ]
  },
  {
   "cell_type": "code",
   "execution_count": 52,
   "id": "1449de5b",
   "metadata": {
    "scrolled": true
   },
   "outputs": [
    {
     "name": "stdout",
     "output_type": "stream",
     "text": [
      "(17154, 10)\n"
     ]
    },
    {
     "data": {
      "text/html": [
       "<div>\n",
       "<style scoped>\n",
       "    .dataframe tbody tr th:only-of-type {\n",
       "        vertical-align: middle;\n",
       "    }\n",
       "\n",
       "    .dataframe tbody tr th {\n",
       "        vertical-align: top;\n",
       "    }\n",
       "\n",
       "    .dataframe thead th {\n",
       "        text-align: right;\n",
       "    }\n",
       "</style>\n",
       "<table border=\"1\" class=\"dataframe\">\n",
       "  <thead>\n",
       "    <tr style=\"text-align: right;\">\n",
       "      <th></th>\n",
       "      <th>userId</th>\n",
       "      <th>movieId</th>\n",
       "      <th>rating</th>\n",
       "      <th>timestamp</th>\n",
       "      <th>id</th>\n",
       "      <th>original_title</th>\n",
       "      <th>vote_average</th>\n",
       "      <th>vote_count</th>\n",
       "      <th>item_tag_name</th>\n",
       "      <th>movies_id_num</th>\n",
       "    </tr>\n",
       "  </thead>\n",
       "  <tbody>\n",
       "    <tr>\n",
       "      <th>0</th>\n",
       "      <td>1</td>\n",
       "      <td>2105</td>\n",
       "      <td>4.0</td>\n",
       "      <td>1260759139</td>\n",
       "      <td>2105</td>\n",
       "      <td>American Pie</td>\n",
       "      <td>6.4</td>\n",
       "      <td>2358.0</td>\n",
       "      <td>Comedy,Romance,at a high school party four fri...</td>\n",
       "      <td>2181</td>\n",
       "    </tr>\n",
       "    <tr>\n",
       "      <th>1</th>\n",
       "      <td>4</td>\n",
       "      <td>2105</td>\n",
       "      <td>4.0</td>\n",
       "      <td>949896114</td>\n",
       "      <td>2105</td>\n",
       "      <td>American Pie</td>\n",
       "      <td>6.4</td>\n",
       "      <td>2358.0</td>\n",
       "      <td>Comedy,Romance,at a high school party four fri...</td>\n",
       "      <td>2181</td>\n",
       "    </tr>\n",
       "    <tr>\n",
       "      <th>2</th>\n",
       "      <td>15</td>\n",
       "      <td>2105</td>\n",
       "      <td>4.0</td>\n",
       "      <td>1052896867</td>\n",
       "      <td>2105</td>\n",
       "      <td>American Pie</td>\n",
       "      <td>6.4</td>\n",
       "      <td>2358.0</td>\n",
       "      <td>Comedy,Romance,at a high school party four fri...</td>\n",
       "      <td>2181</td>\n",
       "    </tr>\n",
       "    <tr>\n",
       "      <th>3</th>\n",
       "      <td>34</td>\n",
       "      <td>2105</td>\n",
       "      <td>4.0</td>\n",
       "      <td>973747765</td>\n",
       "      <td>2105</td>\n",
       "      <td>American Pie</td>\n",
       "      <td>6.4</td>\n",
       "      <td>2358.0</td>\n",
       "      <td>Comedy,Romance,at a high school party four fri...</td>\n",
       "      <td>2181</td>\n",
       "    </tr>\n",
       "    <tr>\n",
       "      <th>4</th>\n",
       "      <td>41</td>\n",
       "      <td>2105</td>\n",
       "      <td>5.0</td>\n",
       "      <td>1093886731</td>\n",
       "      <td>2105</td>\n",
       "      <td>American Pie</td>\n",
       "      <td>6.4</td>\n",
       "      <td>2358.0</td>\n",
       "      <td>Comedy,Romance,at a high school party four fri...</td>\n",
       "      <td>2181</td>\n",
       "    </tr>\n",
       "    <tr>\n",
       "      <th>...</th>\n",
       "      <td>...</td>\n",
       "      <td>...</td>\n",
       "      <td>...</td>\n",
       "      <td>...</td>\n",
       "      <td>...</td>\n",
       "      <td>...</td>\n",
       "      <td>...</td>\n",
       "      <td>...</td>\n",
       "      <td>...</td>\n",
       "      <td>...</td>\n",
       "    </tr>\n",
       "    <tr>\n",
       "      <th>17149</th>\n",
       "      <td>652</td>\n",
       "      <td>6341</td>\n",
       "      <td>4.0</td>\n",
       "      <td>1439586128</td>\n",
       "      <td>6341</td>\n",
       "      <td>Blue Thunder</td>\n",
       "      <td>5.9</td>\n",
       "      <td>117.0</td>\n",
       "      <td>Science Fiction,Action,Thriller,Crime,Drama,of...</td>\n",
       "      <td>5862</td>\n",
       "    </tr>\n",
       "    <tr>\n",
       "      <th>17150</th>\n",
       "      <td>652</td>\n",
       "      <td>8699</td>\n",
       "      <td>5.0</td>\n",
       "      <td>1439587538</td>\n",
       "      <td>8699</td>\n",
       "      <td>Anchorman: The Legend of Ron Burgundy</td>\n",
       "      <td>6.7</td>\n",
       "      <td>1523.0</td>\n",
       "      <td>Comedy,its the s and san diego super sexist an...</td>\n",
       "      <td>5541</td>\n",
       "    </tr>\n",
       "    <tr>\n",
       "      <th>17151</th>\n",
       "      <td>652</td>\n",
       "      <td>103731</td>\n",
       "      <td>5.0</td>\n",
       "      <td>1439586954</td>\n",
       "      <td>103731</td>\n",
       "      <td>Mud</td>\n",
       "      <td>7.0</td>\n",
       "      <td>1080.0</td>\n",
       "      <td>Drama,two teenage boys encounter a fugitive an...</td>\n",
       "      <td>8394</td>\n",
       "    </tr>\n",
       "    <tr>\n",
       "      <th>17152</th>\n",
       "      <td>659</td>\n",
       "      <td>167</td>\n",
       "      <td>4.0</td>\n",
       "      <td>836137550</td>\n",
       "      <td>167</td>\n",
       "      <td>K-PAX</td>\n",
       "      <td>7.1</td>\n",
       "      <td>710.0</td>\n",
       "      <td>Drama,Science Fiction,prot is a patient at a m...</td>\n",
       "      <td>3826</td>\n",
       "    </tr>\n",
       "    <tr>\n",
       "      <th>17153</th>\n",
       "      <td>664</td>\n",
       "      <td>7347</td>\n",
       "      <td>4.0</td>\n",
       "      <td>1344436094</td>\n",
       "      <td>7347</td>\n",
       "      <td>Tropa de Elite</td>\n",
       "      <td>7.8</td>\n",
       "      <td>519.0</td>\n",
       "      <td>Drama,Action,Crime,in before the visit of the ...</td>\n",
       "      <td>6878</td>\n",
       "    </tr>\n",
       "  </tbody>\n",
       "</table>\n",
       "<p>17154 rows × 10 columns</p>\n",
       "</div>"
      ],
      "text/plain": [
       "       userId  movieId  rating   timestamp      id  \\\n",
       "0           1     2105     4.0  1260759139    2105   \n",
       "1           4     2105     4.0   949896114    2105   \n",
       "2          15     2105     4.0  1052896867    2105   \n",
       "3          34     2105     4.0   973747765    2105   \n",
       "4          41     2105     5.0  1093886731    2105   \n",
       "...       ...      ...     ...         ...     ...   \n",
       "17149     652     6341     4.0  1439586128    6341   \n",
       "17150     652     8699     5.0  1439587538    8699   \n",
       "17151     652   103731     5.0  1439586954  103731   \n",
       "17152     659      167     4.0   836137550     167   \n",
       "17153     664     7347     4.0  1344436094    7347   \n",
       "\n",
       "                              original_title  vote_average  vote_count  \\\n",
       "0                               American Pie           6.4      2358.0   \n",
       "1                               American Pie           6.4      2358.0   \n",
       "2                               American Pie           6.4      2358.0   \n",
       "3                               American Pie           6.4      2358.0   \n",
       "4                               American Pie           6.4      2358.0   \n",
       "...                                      ...           ...         ...   \n",
       "17149                           Blue Thunder           5.9       117.0   \n",
       "17150  Anchorman: The Legend of Ron Burgundy           6.7      1523.0   \n",
       "17151                                    Mud           7.0      1080.0   \n",
       "17152                                  K-PAX           7.1       710.0   \n",
       "17153                         Tropa de Elite           7.8       519.0   \n",
       "\n",
       "                                           item_tag_name  movies_id_num  \n",
       "0      Comedy,Romance,at a high school party four fri...           2181  \n",
       "1      Comedy,Romance,at a high school party four fri...           2181  \n",
       "2      Comedy,Romance,at a high school party four fri...           2181  \n",
       "3      Comedy,Romance,at a high school party four fri...           2181  \n",
       "4      Comedy,Romance,at a high school party four fri...           2181  \n",
       "...                                                  ...            ...  \n",
       "17149  Science Fiction,Action,Thriller,Crime,Drama,of...           5862  \n",
       "17150  Comedy,its the s and san diego super sexist an...           5541  \n",
       "17151  Drama,two teenage boys encounter a fugitive an...           8394  \n",
       "17152  Drama,Science Fiction,prot is a patient at a m...           3826  \n",
       "17153  Drama,Action,Crime,in before the visit of the ...           6878  \n",
       "\n",
       "[17154 rows x 10 columns]"
      ]
     },
     "execution_count": 52,
     "metadata": {},
     "output_type": "execute_result"
    }
   ],
   "source": [
    "df_merge = ratingdf.merge(final_movies, how='inner', left_on='movieId', right_on='id')\n",
    "print(df_merge.shape)\n",
    "df_merge"
   ]
  },
  {
   "cell_type": "code",
   "execution_count": 53,
   "id": "8cc7a7e9",
   "metadata": {},
   "outputs": [],
   "source": [
    "df_merge = df_merge.iloc[0:6000]"
   ]
  },
  {
   "cell_type": "code",
   "execution_count": 54,
   "id": "ab062d56",
   "metadata": {},
   "outputs": [
    {
     "data": {
      "text/html": [
       "<div>\n",
       "<style scoped>\n",
       "    .dataframe tbody tr th:only-of-type {\n",
       "        vertical-align: middle;\n",
       "    }\n",
       "\n",
       "    .dataframe tbody tr th {\n",
       "        vertical-align: top;\n",
       "    }\n",
       "\n",
       "    .dataframe thead th {\n",
       "        text-align: right;\n",
       "    }\n",
       "</style>\n",
       "<table border=\"1\" class=\"dataframe\">\n",
       "  <thead>\n",
       "    <tr style=\"text-align: right;\">\n",
       "      <th></th>\n",
       "      <th>userId</th>\n",
       "      <th>user_tag_name</th>\n",
       "    </tr>\n",
       "  </thead>\n",
       "  <tbody>\n",
       "    <tr>\n",
       "      <th>0</th>\n",
       "      <td>1</td>\n",
       "      <td>Comedy,Romance,at a high school party four fri...</td>\n",
       "    </tr>\n",
       "    <tr>\n",
       "      <th>1</th>\n",
       "      <td>2</td>\n",
       "      <td>Drama,Mystery,Romance,red this is the third fi...</td>\n",
       "    </tr>\n",
       "    <tr>\n",
       "      <th>2</th>\n",
       "      <td>3</td>\n",
       "      <td>Drama,Mystery,Romance,red this is the third fi...</td>\n",
       "    </tr>\n",
       "    <tr>\n",
       "      <th>3</th>\n",
       "      <td>4</td>\n",
       "      <td>Comedy,Romance,at a high school party four fri...</td>\n",
       "    </tr>\n",
       "    <tr>\n",
       "      <th>4</th>\n",
       "      <td>5</td>\n",
       "      <td>Thriller,Action,Comedy,Crime,Drama,a hard nose...</td>\n",
       "    </tr>\n",
       "    <tr>\n",
       "      <th>...</th>\n",
       "      <td>...</td>\n",
       "      <td>...</td>\n",
       "    </tr>\n",
       "    <tr>\n",
       "      <th>627</th>\n",
       "      <td>667</td>\n",
       "      <td>Drama,Mystery,Romance,red this is the third fi...</td>\n",
       "    </tr>\n",
       "    <tr>\n",
       "      <th>628</th>\n",
       "      <td>668</td>\n",
       "      <td>Action,Thriller,Science Fiction,its been years...</td>\n",
       "    </tr>\n",
       "    <tr>\n",
       "      <th>629</th>\n",
       "      <td>669</td>\n",
       "      <td>Comedy,newly engaged ben and sadie cant wait t...</td>\n",
       "    </tr>\n",
       "    <tr>\n",
       "      <th>630</th>\n",
       "      <td>670</td>\n",
       "      <td>Drama,a drama about a maori family lving in au...</td>\n",
       "    </tr>\n",
       "    <tr>\n",
       "      <th>631</th>\n",
       "      <td>671</td>\n",
       "      <td>Action,Thriller,Science Fiction,its been years...</td>\n",
       "    </tr>\n",
       "  </tbody>\n",
       "</table>\n",
       "<p>632 rows × 2 columns</p>\n",
       "</div>"
      ],
      "text/plain": [
       "     userId                                      user_tag_name\n",
       "0         1  Comedy,Romance,at a high school party four fri...\n",
       "1         2  Drama,Mystery,Romance,red this is the third fi...\n",
       "2         3  Drama,Mystery,Romance,red this is the third fi...\n",
       "3         4  Comedy,Romance,at a high school party four fri...\n",
       "4         5  Thriller,Action,Comedy,Crime,Drama,a hard nose...\n",
       "..      ...                                                ...\n",
       "627     667  Drama,Mystery,Romance,red this is the third fi...\n",
       "628     668  Action,Thriller,Science Fiction,its been years...\n",
       "629     669  Comedy,newly engaged ben and sadie cant wait t...\n",
       "630     670  Drama,a drama about a maori family lving in au...\n",
       "631     671  Action,Thriller,Science Fiction,its been years...\n",
       "\n",
       "[632 rows x 2 columns]"
      ]
     },
     "execution_count": 54,
     "metadata": {},
     "output_type": "execute_result"
    }
   ],
   "source": [
    "user_tag = df_merge.groupby(['userId'])['item_tag_name'].apply(','.join).reset_index()\n",
    "user_tag = user_tag.rename(columns={'item_tag_name': 'user_tag_name'})\n",
    "user_tag"
   ]
  },
  {
   "cell_type": "code",
   "execution_count": 55,
   "id": "af9ab626",
   "metadata": {},
   "outputs": [
    {
     "data": {
      "text/html": [
       "<div>\n",
       "<style scoped>\n",
       "    .dataframe tbody tr th:only-of-type {\n",
       "        vertical-align: middle;\n",
       "    }\n",
       "\n",
       "    .dataframe tbody tr th {\n",
       "        vertical-align: top;\n",
       "    }\n",
       "\n",
       "    .dataframe thead th {\n",
       "        text-align: right;\n",
       "    }\n",
       "</style>\n",
       "<table border=\"1\" class=\"dataframe\">\n",
       "  <thead>\n",
       "    <tr style=\"text-align: right;\">\n",
       "      <th></th>\n",
       "      <th>userId</th>\n",
       "      <th>user_tag_name</th>\n",
       "      <th>order_id_num</th>\n",
       "    </tr>\n",
       "  </thead>\n",
       "  <tbody>\n",
       "    <tr>\n",
       "      <th>0</th>\n",
       "      <td>1</td>\n",
       "      <td>Comedy,Romance,at a high school party four fri...</td>\n",
       "      <td>0</td>\n",
       "    </tr>\n",
       "    <tr>\n",
       "      <th>1</th>\n",
       "      <td>2</td>\n",
       "      <td>Drama,Mystery,Romance,red this is the third fi...</td>\n",
       "      <td>1</td>\n",
       "    </tr>\n",
       "    <tr>\n",
       "      <th>2</th>\n",
       "      <td>3</td>\n",
       "      <td>Drama,Mystery,Romance,red this is the third fi...</td>\n",
       "      <td>2</td>\n",
       "    </tr>\n",
       "    <tr>\n",
       "      <th>3</th>\n",
       "      <td>4</td>\n",
       "      <td>Comedy,Romance,at a high school party four fri...</td>\n",
       "      <td>3</td>\n",
       "    </tr>\n",
       "    <tr>\n",
       "      <th>4</th>\n",
       "      <td>5</td>\n",
       "      <td>Thriller,Action,Comedy,Crime,Drama,a hard nose...</td>\n",
       "      <td>4</td>\n",
       "    </tr>\n",
       "    <tr>\n",
       "      <th>...</th>\n",
       "      <td>...</td>\n",
       "      <td>...</td>\n",
       "      <td>...</td>\n",
       "    </tr>\n",
       "    <tr>\n",
       "      <th>627</th>\n",
       "      <td>667</td>\n",
       "      <td>Drama,Mystery,Romance,red this is the third fi...</td>\n",
       "      <td>627</td>\n",
       "    </tr>\n",
       "    <tr>\n",
       "      <th>628</th>\n",
       "      <td>668</td>\n",
       "      <td>Action,Thriller,Science Fiction,its been years...</td>\n",
       "      <td>628</td>\n",
       "    </tr>\n",
       "    <tr>\n",
       "      <th>629</th>\n",
       "      <td>669</td>\n",
       "      <td>Comedy,newly engaged ben and sadie cant wait t...</td>\n",
       "      <td>629</td>\n",
       "    </tr>\n",
       "    <tr>\n",
       "      <th>630</th>\n",
       "      <td>670</td>\n",
       "      <td>Drama,a drama about a maori family lving in au...</td>\n",
       "      <td>630</td>\n",
       "    </tr>\n",
       "    <tr>\n",
       "      <th>631</th>\n",
       "      <td>671</td>\n",
       "      <td>Action,Thriller,Science Fiction,its been years...</td>\n",
       "      <td>631</td>\n",
       "    </tr>\n",
       "  </tbody>\n",
       "</table>\n",
       "<p>632 rows × 3 columns</p>\n",
       "</div>"
      ],
      "text/plain": [
       "     userId                                      user_tag_name  order_id_num\n",
       "0         1  Comedy,Romance,at a high school party four fri...             0\n",
       "1         2  Drama,Mystery,Romance,red this is the third fi...             1\n",
       "2         3  Drama,Mystery,Romance,red this is the third fi...             2\n",
       "3         4  Comedy,Romance,at a high school party four fri...             3\n",
       "4         5  Thriller,Action,Comedy,Crime,Drama,a hard nose...             4\n",
       "..      ...                                                ...           ...\n",
       "627     667  Drama,Mystery,Romance,red this is the third fi...           627\n",
       "628     668  Action,Thriller,Science Fiction,its been years...           628\n",
       "629     669  Comedy,newly engaged ben and sadie cant wait t...           629\n",
       "630     670  Drama,a drama about a maori family lving in au...           630\n",
       "631     671  Action,Thriller,Science Fiction,its been years...           631\n",
       "\n",
       "[632 rows x 3 columns]"
      ]
     },
     "execution_count": 55,
     "metadata": {},
     "output_type": "execute_result"
    }
   ],
   "source": [
    "user_tag = generate_int_id(user_tag, 'order_id_num')\n",
    "user_tag"
   ]
  },
  {
   "cell_type": "code",
   "execution_count": 56,
   "id": "825d29e7",
   "metadata": {},
   "outputs": [
    {
     "name": "stdout",
     "output_type": "stream",
     "text": [
      "(6000, 12)\n"
     ]
    },
    {
     "data": {
      "text/html": [
       "<div>\n",
       "<style scoped>\n",
       "    .dataframe tbody tr th:only-of-type {\n",
       "        vertical-align: middle;\n",
       "    }\n",
       "\n",
       "    .dataframe tbody tr th {\n",
       "        vertical-align: top;\n",
       "    }\n",
       "\n",
       "    .dataframe thead th {\n",
       "        text-align: right;\n",
       "    }\n",
       "</style>\n",
       "<table border=\"1\" class=\"dataframe\">\n",
       "  <thead>\n",
       "    <tr style=\"text-align: right;\">\n",
       "      <th></th>\n",
       "      <th>userId</th>\n",
       "      <th>movieId</th>\n",
       "      <th>rating</th>\n",
       "      <th>timestamp</th>\n",
       "      <th>id</th>\n",
       "      <th>original_title</th>\n",
       "      <th>vote_average</th>\n",
       "      <th>vote_count</th>\n",
       "      <th>item_tag_name</th>\n",
       "      <th>movies_id_num</th>\n",
       "      <th>user_tag_name</th>\n",
       "      <th>order_id_num</th>\n",
       "    </tr>\n",
       "  </thead>\n",
       "  <tbody>\n",
       "    <tr>\n",
       "      <th>0</th>\n",
       "      <td>1</td>\n",
       "      <td>2105</td>\n",
       "      <td>4.0</td>\n",
       "      <td>1260759139</td>\n",
       "      <td>2105</td>\n",
       "      <td>American Pie</td>\n",
       "      <td>6.4</td>\n",
       "      <td>2358.0</td>\n",
       "      <td>Comedy,Romance,at a high school party four fri...</td>\n",
       "      <td>2181</td>\n",
       "      <td>Comedy,Romance,at a high school party four fri...</td>\n",
       "      <td>0</td>\n",
       "    </tr>\n",
       "    <tr>\n",
       "      <th>1</th>\n",
       "      <td>4</td>\n",
       "      <td>2105</td>\n",
       "      <td>4.0</td>\n",
       "      <td>949896114</td>\n",
       "      <td>2105</td>\n",
       "      <td>American Pie</td>\n",
       "      <td>6.4</td>\n",
       "      <td>2358.0</td>\n",
       "      <td>Comedy,Romance,at a high school party four fri...</td>\n",
       "      <td>2181</td>\n",
       "      <td>Comedy,Romance,at a high school party four fri...</td>\n",
       "      <td>3</td>\n",
       "    </tr>\n",
       "    <tr>\n",
       "      <th>2</th>\n",
       "      <td>4</td>\n",
       "      <td>153</td>\n",
       "      <td>4.0</td>\n",
       "      <td>949811346</td>\n",
       "      <td>153</td>\n",
       "      <td>Lost in Translation</td>\n",
       "      <td>7.3</td>\n",
       "      <td>1943.0</td>\n",
       "      <td>Drama,two lost souls visiting tokyo the young ...</td>\n",
       "      <td>4815</td>\n",
       "      <td>Comedy,Romance,at a high school party four fri...</td>\n",
       "      <td>3</td>\n",
       "    </tr>\n",
       "    <tr>\n",
       "      <th>3</th>\n",
       "      <td>4</td>\n",
       "      <td>296</td>\n",
       "      <td>5.0</td>\n",
       "      <td>949895708</td>\n",
       "      <td>296</td>\n",
       "      <td>Terminator 3: Rise of the Machines</td>\n",
       "      <td>5.9</td>\n",
       "      <td>2177.0</td>\n",
       "      <td>Action,Thriller,Science Fiction,its been years...</td>\n",
       "      <td>4739</td>\n",
       "      <td>Comedy,Romance,at a high school party four fri...</td>\n",
       "      <td>3</td>\n",
       "    </tr>\n",
       "    <tr>\n",
       "      <th>4</th>\n",
       "      <td>4</td>\n",
       "      <td>480</td>\n",
       "      <td>5.0</td>\n",
       "      <td>949810582</td>\n",
       "      <td>480</td>\n",
       "      <td>Monsoon Wedding</td>\n",
       "      <td>6.8</td>\n",
       "      <td>59.0</td>\n",
       "      <td>Comedy,Drama,Romance,from an exciting indian w...</td>\n",
       "      <td>3994</td>\n",
       "      <td>Comedy,Romance,at a high school party four fri...</td>\n",
       "      <td>3</td>\n",
       "    </tr>\n",
       "  </tbody>\n",
       "</table>\n",
       "</div>"
      ],
      "text/plain": [
       "   userId  movieId  rating   timestamp    id  \\\n",
       "0       1     2105     4.0  1260759139  2105   \n",
       "1       4     2105     4.0   949896114  2105   \n",
       "2       4      153     4.0   949811346   153   \n",
       "3       4      296     5.0   949895708   296   \n",
       "4       4      480     5.0   949810582   480   \n",
       "\n",
       "                       original_title  vote_average  vote_count  \\\n",
       "0                        American Pie           6.4      2358.0   \n",
       "1                        American Pie           6.4      2358.0   \n",
       "2                 Lost in Translation           7.3      1943.0   \n",
       "3  Terminator 3: Rise of the Machines           5.9      2177.0   \n",
       "4                     Monsoon Wedding           6.8        59.0   \n",
       "\n",
       "                                       item_tag_name  movies_id_num  \\\n",
       "0  Comedy,Romance,at a high school party four fri...           2181   \n",
       "1  Comedy,Romance,at a high school party four fri...           2181   \n",
       "2  Drama,two lost souls visiting tokyo the young ...           4815   \n",
       "3  Action,Thriller,Science Fiction,its been years...           4739   \n",
       "4  Comedy,Drama,Romance,from an exciting indian w...           3994   \n",
       "\n",
       "                                       user_tag_name  order_id_num  \n",
       "0  Comedy,Romance,at a high school party four fri...             0  \n",
       "1  Comedy,Romance,at a high school party four fri...             3  \n",
       "2  Comedy,Romance,at a high school party four fri...             3  \n",
       "3  Comedy,Romance,at a high school party four fri...             3  \n",
       "4  Comedy,Romance,at a high school party four fri...             3  "
      ]
     },
     "execution_count": 56,
     "metadata": {},
     "output_type": "execute_result"
    }
   ],
   "source": [
    "final_merge = df_merge.merge(user_tag, how='inner', left_on='userId', right_on='userId')\n",
    "print(final_merge.shape)\n",
    "final_merge.head()"
   ]
  },
  {
   "cell_type": "code",
   "execution_count": 57,
   "id": "6870876f",
   "metadata": {},
   "outputs": [],
   "source": [
    "user_feature_list = generate_feature_list(user_tag,['user_tag_name'])\n",
    "\n",
    "item_feature_list = generate_feature_list(final_movies,['item_tag_name'])"
   ]
  },
  {
   "cell_type": "code",
   "execution_count": 58,
   "id": "77abafb5",
   "metadata": {},
   "outputs": [
    {
     "data": {
      "text/plain": [
       "0      (0, [Comedy, Romance, at a high school party f...\n",
       "1      (1, [Drama, Mystery, Romance, red this is the ...\n",
       "2      (2, [Drama, Mystery, Romance, red this is the ...\n",
       "3      (3, [Comedy, Romance, at a high school party f...\n",
       "4      (4, [Thriller, Action, Comedy, Crime, Drama, a...\n",
       "                             ...                        \n",
       "627    (627, [Drama, Mystery, Romance, red this is th...\n",
       "628    (628, [Action, Thriller, Science Fiction, its ...\n",
       "629    (629, [Comedy, newly engaged ben and sadie can...\n",
       "630    (630, [Drama, a drama about a maori family lvi...\n",
       "631    (631, [Action, Thriller, Science Fiction, its ...\n",
       "Name: user_features, Length: 632, dtype: object"
      ]
     },
     "execution_count": 58,
     "metadata": {},
     "output_type": "execute_result"
    }
   ],
   "source": [
    "# creating features for feeding into lightfm \n",
    "user_tag['user_features'] = create_features(user_tag, ['user_tag_name'], 'order_id_num')\n",
    "user_tag['user_features']"
   ]
  },
  {
   "cell_type": "code",
   "execution_count": 59,
   "id": "767e11a4",
   "metadata": {},
   "outputs": [
    {
     "data": {
      "text/plain": [
       "0       (0, [Animation, Comedy, Family, led by woody a...\n",
       "1       (1, [Adventure, Fantasy, Family, when siblings...\n",
       "2       (2, [Romance, Comedy, a family wedding reignit...\n",
       "3       (3, [Comedy, Drama, Romance, cheated on mistre...\n",
       "4       (4, [Comedy, just when george banks has recove...\n",
       "                              ...                        \n",
       "9214    (9214, [Drama, a man must cope with the loss o...\n",
       "9215    (9215, [Thriller, Romance, rustom pavri an hon...\n",
       "9216    (9216, [Adventure, Drama, History, Romance, vi...\n",
       "9217    (9217, [Action, Adventure, Drama, Horror, Scie...\n",
       "9218    (9218, [Documentary, Music, the band stormed e...\n",
       "Name: item_features, Length: 9219, dtype: object"
      ]
     },
     "execution_count": 59,
     "metadata": {},
     "output_type": "execute_result"
    }
   ],
   "source": [
    "final_movies['item_features'] = create_features(final_movies,['item_tag_name'],'movies_id_num')\n",
    "final_movies['item_features']"
   ]
  },
  {
   "cell_type": "code",
   "execution_count": 60,
   "id": "34dd1160",
   "metadata": {},
   "outputs": [],
   "source": [
    "dataset = Dataset()\n",
    "dataset.fit(\n",
    "    set(user_tag['order_id_num']),\n",
    "    set(final_movies['movies_id_num']), \n",
    "    item_features=item_feature_list, \n",
    "    user_features=user_feature_list)"
   ]
  },
  {
   "cell_type": "code",
   "execution_count": 61,
   "id": "bcc1e785",
   "metadata": {},
   "outputs": [
    {
     "data": {
      "text/plain": [
       "0         (0, 2181)\n",
       "1         (3, 2181)\n",
       "2         (3, 4815)\n",
       "3         (3, 4739)\n",
       "4         (3, 3994)\n",
       "           ...     \n",
       "5995    (209, 3171)\n",
       "5996    (474, 2634)\n",
       "5997    (485, 1347)\n",
       "5998    (485, 5868)\n",
       "5999    (496, 1347)\n",
       "Name: user_item_id_tuple, Length: 6000, dtype: object"
      ]
     },
     "execution_count": 61,
     "metadata": {},
     "output_type": "execute_result"
    }
   ],
   "source": [
    "final_merge['user_item_id_tuple'] = list(zip(final_merge.order_id_num, final_merge.movies_id_num))\n",
    "final_merge['user_item_id_tuple']"
   ]
  },
  {
   "cell_type": "code",
   "execution_count": 62,
   "id": "abde90ee",
   "metadata": {},
   "outputs": [],
   "source": [
    "interactions, weights = dataset.build_interactions(final_merge['user_item_id_tuple'])"
   ]
  },
  {
   "cell_type": "code",
   "execution_count": 63,
   "id": "0320a6f5",
   "metadata": {},
   "outputs": [
    {
     "name": "stdout",
     "output_type": "stream",
     "text": [
      "  (0, 0)\t0.0013175231\n",
      "  (0, 9219)\t0.0013175231\n",
      "  (0, 9220)\t0.0013175231\n",
      "  (0, 9221)\t0.0013175231\n",
      "  (0, 9222)\t0.0013175231\n",
      "  (0, 9223)\t0.0013175231\n",
      "  (0, 9224)\t0.0013175231\n",
      "  (0, 9225)\t0.0013175231\n",
      "  (0, 9226)\t0.0013175231\n",
      "  (0, 9227)\t0.0039525693\n",
      "  (0, 9228)\t0.038208168\n",
      "  (0, 9229)\t0.0026350461\n",
      "  (0, 9230)\t0.0013175231\n",
      "  (0, 9231)\t0.0026350461\n",
      "  (0, 9232)\t0.0026350461\n",
      "  (0, 9233)\t0.0013175231\n",
      "  (0, 9234)\t0.010540185\n",
      "  (0, 9235)\t0.0013175231\n",
      "  (0, 9236)\t0.0052700923\n",
      "  (0, 9237)\t0.0013175231\n",
      "  (0, 9238)\t0.0013175231\n",
      "  (0, 9239)\t0.0013175231\n",
      "  (0, 9240)\t0.0039525693\n",
      "  (0, 9241)\t0.0039525693\n",
      "  (0, 9242)\t0.0039525693\n",
      "  :\t:\n",
      "  (9218, 17492)\t0.01724138\n",
      "  (9218, 18309)\t0.03448276\n",
      "  (9218, 18310)\t0.03448276\n",
      "  (9218, 18311)\t0.03448276\n",
      "  (9218, 92296)\t0.01724138\n",
      "  (9218, 96126)\t0.01724138\n",
      "  (9218, 96127)\t0.01724138\n",
      "  (9218, 107884)\t0.01724138\n",
      "  (9218, 107885)\t0.01724138\n",
      "  (9218, 170954)\t0.01724138\n",
      "  (9218, 293058)\t0.01724138\n",
      "  (9218, 293059)\t0.01724138\n",
      "  (9218, 293060)\t0.01724138\n",
      "  (9218, 373067)\t0.01724138\n",
      "  (9218, 373068)\t0.01724138\n",
      "  (9218, 373069)\t0.01724138\n",
      "  (9218, 373070)\t0.01724138\n",
      "  (9218, 373071)\t0.01724138\n",
      "  (9218, 373072)\t0.01724138\n",
      "  (9218, 373073)\t0.01724138\n",
      "  (9218, 373074)\t0.01724138\n",
      "  (9218, 373075)\t0.01724138\n",
      "  (9218, 373076)\t0.01724138\n",
      "  (9218, 373077)\t0.01724138\n",
      "  (9218, 373078)\t0.01724138\n"
     ]
    }
   ],
   "source": [
    "item_features = dataset.build_item_features(final_movies['item_features'])\n",
    "print(item_features)"
   ]
  },
  {
   "cell_type": "code",
   "execution_count": 64,
   "id": "bc0dfddd",
   "metadata": {},
   "outputs": [
    {
     "name": "stdout",
     "output_type": "stream",
     "text": [
      "  (0, 0)\t0.0016051364\n",
      "  (0, 632)\t0.0016051364\n",
      "  (0, 633)\t0.0016051364\n",
      "  (0, 634)\t0.0016051364\n",
      "  (0, 635)\t0.0016051364\n",
      "  (0, 636)\t0.0016051364\n",
      "  (0, 637)\t0.0016051364\n",
      "  (0, 638)\t0.0016051364\n",
      "  (0, 639)\t0.024077047\n",
      "  (0, 640)\t0.033707865\n",
      "  (0, 641)\t0.0016051364\n",
      "  (0, 642)\t0.0048154094\n",
      "  (0, 643)\t0.0016051364\n",
      "  (0, 644)\t0.12841092\n",
      "  (0, 645)\t0.0016051364\n",
      "  (0, 646)\t0.024077047\n",
      "  (0, 647)\t0.09309791\n",
      "  (0, 648)\t0.0016051364\n",
      "  (0, 649)\t0.0016051364\n",
      "  (0, 650)\t0.0016051364\n",
      "  (0, 651)\t0.0016051364\n",
      "  (0, 652)\t0.0064205457\n",
      "  (0, 653)\t0.011235955\n",
      "  (0, 654)\t0.0016051364\n",
      "  (0, 655)\t0.0016051364\n",
      "  :\t:\n",
      "  (631, 11885)\t0.0002737476\n",
      "  (631, 11886)\t0.0002737476\n",
      "  (631, 11887)\t0.0002737476\n",
      "  (631, 11888)\t0.0002737476\n",
      "  (631, 11889)\t0.0002737476\n",
      "  (631, 11890)\t0.0002737476\n",
      "  (631, 11891)\t0.0002737476\n",
      "  (631, 11892)\t0.0002737476\n",
      "  (631, 11893)\t0.0002737476\n",
      "  (631, 11894)\t0.0002737476\n",
      "  (631, 11895)\t0.0002737476\n",
      "  (631, 11896)\t0.0002737476\n",
      "  (631, 11897)\t0.0002737476\n",
      "  (631, 11898)\t0.0002737476\n",
      "  (631, 11899)\t0.0002737476\n",
      "  (631, 11900)\t0.0002737476\n",
      "  (631, 11901)\t0.0002737476\n",
      "  (631, 11902)\t0.0002737476\n",
      "  (631, 11903)\t0.0002737476\n",
      "  (631, 11904)\t0.0002737476\n",
      "  (631, 11905)\t0.0002737476\n",
      "  (631, 11906)\t0.0002737476\n",
      "  (631, 11907)\t0.0002737476\n",
      "  (631, 11908)\t0.0002737476\n",
      "  (631, 11909)\t0.0002737476\n"
     ]
    }
   ],
   "source": [
    "user_features = dataset.build_user_features(user_tag['user_features'])\n",
    "print(user_features)"
   ]
  },
  {
   "cell_type": "code",
   "execution_count": 65,
   "id": "15c0cc43",
   "metadata": {},
   "outputs": [
    {
     "name": "stderr",
     "output_type": "stream",
     "text": [
      "Epoch: 100%|█████████████████████████████████████████████████████████████████████████████| 5/5 [04:02<00:00, 48.41s/it]\n"
     ]
    },
    {
     "data": {
      "text/plain": [
       "<lightfm.lightfm.LightFM at 0x2936c44df70>"
      ]
     },
     "execution_count": 65,
     "metadata": {},
     "output_type": "execute_result"
    }
   ],
   "source": [
    "model = LightFM(\n",
    "    no_components=150,\n",
    "    learning_rate=0.05,\n",
    "    loss='warp',\n",
    "    random_state=2019)\n",
    "\n",
    "model.fit(\n",
    "    interactions,\n",
    "    item_features=item_features,\n",
    "    user_features=user_features, sample_weight=weights,\n",
    "    epochs=5, num_threads=4, verbose=True)"
   ]
  },
  {
   "cell_type": "code",
   "execution_count": 66,
   "id": "e89f60e2",
   "metadata": {},
   "outputs": [
    {
     "data": {
      "text/plain": [
       "0.9973863"
      ]
     },
     "execution_count": 66,
     "metadata": {},
     "output_type": "execute_result"
    }
   ],
   "source": [
    "calculate_auc_score(model, interactions, item_features, user_features)"
   ]
  },
  {
   "cell_type": "code",
   "execution_count": 96,
   "id": "18e5ad5b",
   "metadata": {},
   "outputs": [],
   "source": [
    "from IPython.display import display_html\n",
    "def display_side_by_side(*args):\n",
    "    html_str=''\n",
    "    for df in args:\n",
    "        html_str+=df.to_html()\n",
    "    display_html(html_str.replace('table','table style=\"display:inline\"'),raw=True)\n",
    "\n",
    "def recommend_item(user_ids):\n",
    "     \n",
    "    for user in user_ids:\n",
    "        # print their previous answered question title\n",
    "        previous_item_num = final_merge.loc[final_merge['order_id_num'] == user][:3]['movies_id_num']\n",
    "        df_previous_items = final_movies.loc[final_movies['movies_id_num'].isin(previous_item_num)]\n",
    "        print('User Id (' + str(user) + \"): Previous Item Purchased\")\n",
    "        display(df_previous_items[['movies_id_num', 'original_title']])\n",
    "        \n",
    "        # predict\n",
    "        discard_qu_id = df_previous_items['movies_id_num'].values.tolist()\n",
    "        df_use_for_prediction = final_movies.loc[~final_movies['movies_id_num'].isin(discard_qu_id)]\n",
    "        items_id_for_predict = df_use_for_prediction['movies_id_num'].values.tolist()\n",
    "        \n",
    "        scores = model.predict(\n",
    "            user,\n",
    "            items_id_for_predict,\n",
    "            item_features=item_features,\n",
    "            user_features=user_features)\n",
    "        \n",
    "        df_use_for_prediction['scores'] = scores\n",
    "        df_use_for_prediction = df_use_for_prediction.sort_values(by='scores', ascending=False)[:8]\n",
    "        print()\n",
    "        print('User Id (' + str(user) + \"): Recommended Item: \")\n",
    "        display(df_use_for_prediction[['movies_id_num', 'original_title']])"
   ]
  },
  {
   "cell_type": "code",
   "execution_count": 97,
   "id": "4e9291bd",
   "metadata": {},
   "outputs": [
    {
     "name": "stdout",
     "output_type": "stream",
     "text": [
      "User Id (1): Previous Item Purchased\n"
     ]
    },
    {
     "data": {
      "text/html": [
       "<div>\n",
       "<style scoped>\n",
       "    .dataframe tbody tr th:only-of-type {\n",
       "        vertical-align: middle;\n",
       "    }\n",
       "\n",
       "    .dataframe tbody tr th {\n",
       "        vertical-align: top;\n",
       "    }\n",
       "\n",
       "    .dataframe thead th {\n",
       "        text-align: right;\n",
       "    }\n",
       "</style>\n",
       "<table border=\"1\" class=\"dataframe\">\n",
       "  <thead>\n",
       "    <tr style=\"text-align: right;\">\n",
       "      <th></th>\n",
       "      <th>movies_id_num</th>\n",
       "      <th>original_title</th>\n",
       "    </tr>\n",
       "  </thead>\n",
       "  <tbody>\n",
       "    <tr>\n",
       "      <th>274</th>\n",
       "      <td>274</td>\n",
       "      <td>Trois couleurs : Rouge</td>\n",
       "    </tr>\n",
       "    <tr>\n",
       "      <th>3938</th>\n",
       "      <td>3938</td>\n",
       "      <td>48 Hrs.</td>\n",
       "    </tr>\n",
       "    <tr>\n",
       "      <th>4815</th>\n",
       "      <td>4815</td>\n",
       "      <td>Lost in Translation</td>\n",
       "    </tr>\n",
       "  </tbody>\n",
       "</table>\n",
       "</div>"
      ],
      "text/plain": [
       "      movies_id_num          original_title\n",
       "274             274  Trois couleurs : Rouge\n",
       "3938           3938                 48 Hrs.\n",
       "4815           4815     Lost in Translation"
      ]
     },
     "metadata": {},
     "output_type": "display_data"
    },
    {
     "name": "stdout",
     "output_type": "stream",
     "text": [
      "\n",
      "User Id (1): Recommended Item: \n"
     ]
    },
    {
     "data": {
      "text/html": [
       "<div>\n",
       "<style scoped>\n",
       "    .dataframe tbody tr th:only-of-type {\n",
       "        vertical-align: middle;\n",
       "    }\n",
       "\n",
       "    .dataframe tbody tr th {\n",
       "        vertical-align: top;\n",
       "    }\n",
       "\n",
       "    .dataframe thead th {\n",
       "        text-align: right;\n",
       "    }\n",
       "</style>\n",
       "<table border=\"1\" class=\"dataframe\">\n",
       "  <thead>\n",
       "    <tr style=\"text-align: right;\">\n",
       "      <th></th>\n",
       "      <th>movies_id_num</th>\n",
       "      <th>original_title</th>\n",
       "    </tr>\n",
       "  </thead>\n",
       "  <tbody>\n",
       "    <tr>\n",
       "      <th>260</th>\n",
       "      <td>260</td>\n",
       "      <td>Once Were Warriors</td>\n",
       "    </tr>\n",
       "    <tr>\n",
       "      <th>3323</th>\n",
       "      <td>3323</td>\n",
       "      <td>The Million Dollar Hotel</td>\n",
       "    </tr>\n",
       "    <tr>\n",
       "      <th>3468</th>\n",
       "      <td>3468</td>\n",
       "      <td>Point Break</td>\n",
       "    </tr>\n",
       "    <tr>\n",
       "      <th>794</th>\n",
       "      <td>794</td>\n",
       "      <td>The 39 Steps</td>\n",
       "    </tr>\n",
       "    <tr>\n",
       "      <th>3994</th>\n",
       "      <td>3994</td>\n",
       "      <td>Monsoon Wedding</td>\n",
       "    </tr>\n",
       "    <tr>\n",
       "      <th>4460</th>\n",
       "      <td>4460</td>\n",
       "      <td>The Hours</td>\n",
       "    </tr>\n",
       "    <tr>\n",
       "      <th>6797</th>\n",
       "      <td>6797</td>\n",
       "      <td>License to Wed</td>\n",
       "    </tr>\n",
       "    <tr>\n",
       "      <th>4278</th>\n",
       "      <td>4278</td>\n",
       "      <td>Mosura tai Gojira</td>\n",
       "    </tr>\n",
       "  </tbody>\n",
       "</table>\n",
       "</div>"
      ],
      "text/plain": [
       "      movies_id_num            original_title\n",
       "260             260        Once Were Warriors\n",
       "3323           3323  The Million Dollar Hotel\n",
       "3468           3468               Point Break\n",
       "794             794              The 39 Steps\n",
       "3994           3994           Monsoon Wedding\n",
       "4460           4460                 The Hours\n",
       "6797           6797            License to Wed\n",
       "4278           4278         Mosura tai Gojira"
      ]
     },
     "metadata": {},
     "output_type": "display_data"
    }
   ],
   "source": [
    "recommend_item([1])"
   ]
  },
  {
   "cell_type": "code",
   "execution_count": null,
   "id": "c5336ff6",
   "metadata": {},
   "outputs": [],
   "source": []
  }
 ],
 "metadata": {
  "kernelspec": {
   "display_name": "Python 3 (ipykernel)",
   "language": "python",
   "name": "python3"
  },
  "language_info": {
   "codemirror_mode": {
    "name": "ipython",
    "version": 3
   },
   "file_extension": ".py",
   "mimetype": "text/x-python",
   "name": "python",
   "nbconvert_exporter": "python",
   "pygments_lexer": "ipython3",
   "version": "3.9.7"
  }
 },
 "nbformat": 4,
 "nbformat_minor": 5
}
